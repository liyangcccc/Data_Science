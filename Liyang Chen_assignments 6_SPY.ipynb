{
 "cells": [
  {
   "cell_type": "code",
   "execution_count": 1,
   "id": "b7adf5d3",
   "metadata": {},
   "outputs": [],
   "source": [
    "import pandas as pd\n",
    "import numpy as np"
   ]
  },
  {
   "cell_type": "code",
   "execution_count": 2,
   "id": "2c6f7036",
   "metadata": {},
   "outputs": [
    {
     "data": {
      "text/html": [
       "<div>\n",
       "<style scoped>\n",
       "    .dataframe tbody tr th:only-of-type {\n",
       "        vertical-align: middle;\n",
       "    }\n",
       "\n",
       "    .dataframe tbody tr th {\n",
       "        vertical-align: top;\n",
       "    }\n",
       "\n",
       "    .dataframe thead th {\n",
       "        text-align: right;\n",
       "    }\n",
       "</style>\n",
       "<table border=\"1\" class=\"dataframe\">\n",
       "  <thead>\n",
       "    <tr style=\"text-align: right;\">\n",
       "      <th></th>\n",
       "      <th>Date</th>\n",
       "      <th>Year</th>\n",
       "      <th>Month</th>\n",
       "      <th>Day</th>\n",
       "      <th>Weekday</th>\n",
       "      <th>Week_Number</th>\n",
       "      <th>Year_Week</th>\n",
       "      <th>Open</th>\n",
       "      <th>High</th>\n",
       "      <th>Low</th>\n",
       "      <th>Close</th>\n",
       "      <th>Volume</th>\n",
       "      <th>Adj Close</th>\n",
       "      <th>Return</th>\n",
       "      <th>Short_MA</th>\n",
       "      <th>Long_MA</th>\n",
       "    </tr>\n",
       "  </thead>\n",
       "  <tbody>\n",
       "    <tr>\n",
       "      <th>0</th>\n",
       "      <td>2014-01-02</td>\n",
       "      <td>2014</td>\n",
       "      <td>1</td>\n",
       "      <td>2</td>\n",
       "      <td>&lt;bound method PandasDelegate._add_delegate_acc...</td>\n",
       "      <td>0</td>\n",
       "      <td>2014-00</td>\n",
       "      <td>183.98</td>\n",
       "      <td>184.07</td>\n",
       "      <td>182.48</td>\n",
       "      <td>182.92</td>\n",
       "      <td>119636900.0</td>\n",
       "      <td>157.02</td>\n",
       "      <td>0.000000</td>\n",
       "      <td>157.020000</td>\n",
       "      <td>157.0200</td>\n",
       "    </tr>\n",
       "    <tr>\n",
       "      <th>1</th>\n",
       "      <td>2014-01-03</td>\n",
       "      <td>2014</td>\n",
       "      <td>1</td>\n",
       "      <td>3</td>\n",
       "      <td>&lt;bound method PandasDelegate._add_delegate_acc...</td>\n",
       "      <td>0</td>\n",
       "      <td>2014-00</td>\n",
       "      <td>183.23</td>\n",
       "      <td>183.60</td>\n",
       "      <td>182.63</td>\n",
       "      <td>182.89</td>\n",
       "      <td>81390600.0</td>\n",
       "      <td>156.99</td>\n",
       "      <td>-0.000164</td>\n",
       "      <td>157.005000</td>\n",
       "      <td>157.0050</td>\n",
       "    </tr>\n",
       "    <tr>\n",
       "      <th>2</th>\n",
       "      <td>2014-01-06</td>\n",
       "      <td>2014</td>\n",
       "      <td>1</td>\n",
       "      <td>6</td>\n",
       "      <td>&lt;bound method PandasDelegate._add_delegate_acc...</td>\n",
       "      <td>1</td>\n",
       "      <td>2014-01</td>\n",
       "      <td>183.49</td>\n",
       "      <td>183.56</td>\n",
       "      <td>182.08</td>\n",
       "      <td>182.36</td>\n",
       "      <td>108028200.0</td>\n",
       "      <td>156.54</td>\n",
       "      <td>-0.002898</td>\n",
       "      <td>156.850000</td>\n",
       "      <td>156.8500</td>\n",
       "    </tr>\n",
       "    <tr>\n",
       "      <th>3</th>\n",
       "      <td>2014-01-07</td>\n",
       "      <td>2014</td>\n",
       "      <td>1</td>\n",
       "      <td>7</td>\n",
       "      <td>&lt;bound method PandasDelegate._add_delegate_acc...</td>\n",
       "      <td>1</td>\n",
       "      <td>2014-01</td>\n",
       "      <td>183.09</td>\n",
       "      <td>183.79</td>\n",
       "      <td>182.95</td>\n",
       "      <td>183.48</td>\n",
       "      <td>86144200.0</td>\n",
       "      <td>157.50</td>\n",
       "      <td>0.006142</td>\n",
       "      <td>157.012500</td>\n",
       "      <td>157.0125</td>\n",
       "    </tr>\n",
       "    <tr>\n",
       "      <th>4</th>\n",
       "      <td>2014-01-08</td>\n",
       "      <td>2014</td>\n",
       "      <td>1</td>\n",
       "      <td>8</td>\n",
       "      <td>&lt;bound method PandasDelegate._add_delegate_acc...</td>\n",
       "      <td>1</td>\n",
       "      <td>2014-01</td>\n",
       "      <td>183.45</td>\n",
       "      <td>183.83</td>\n",
       "      <td>182.89</td>\n",
       "      <td>183.52</td>\n",
       "      <td>96582300.0</td>\n",
       "      <td>157.53</td>\n",
       "      <td>0.000218</td>\n",
       "      <td>157.116000</td>\n",
       "      <td>157.1160</td>\n",
       "    </tr>\n",
       "    <tr>\n",
       "      <th>...</th>\n",
       "      <td>...</td>\n",
       "      <td>...</td>\n",
       "      <td>...</td>\n",
       "      <td>...</td>\n",
       "      <td>...</td>\n",
       "      <td>...</td>\n",
       "      <td>...</td>\n",
       "      <td>...</td>\n",
       "      <td>...</td>\n",
       "      <td>...</td>\n",
       "      <td>...</td>\n",
       "      <td>...</td>\n",
       "      <td>...</td>\n",
       "      <td>...</td>\n",
       "      <td>...</td>\n",
       "      <td>...</td>\n",
       "    </tr>\n",
       "    <tr>\n",
       "      <th>1505</th>\n",
       "      <td>2019-12-24</td>\n",
       "      <td>2019</td>\n",
       "      <td>12</td>\n",
       "      <td>24</td>\n",
       "      <td>&lt;bound method PandasDelegate._add_delegate_acc...</td>\n",
       "      <td>51</td>\n",
       "      <td>2019-51</td>\n",
       "      <td>321.47</td>\n",
       "      <td>321.52</td>\n",
       "      <td>320.90</td>\n",
       "      <td>321.23</td>\n",
       "      <td>20270000.0</td>\n",
       "      <td>310.23</td>\n",
       "      <td>0.000031</td>\n",
       "      <td>305.515000</td>\n",
       "      <td>297.8884</td>\n",
       "    </tr>\n",
       "    <tr>\n",
       "      <th>1506</th>\n",
       "      <td>2019-12-26</td>\n",
       "      <td>2019</td>\n",
       "      <td>12</td>\n",
       "      <td>26</td>\n",
       "      <td>&lt;bound method PandasDelegate._add_delegate_acc...</td>\n",
       "      <td>51</td>\n",
       "      <td>2019-51</td>\n",
       "      <td>321.65</td>\n",
       "      <td>322.95</td>\n",
       "      <td>321.64</td>\n",
       "      <td>322.94</td>\n",
       "      <td>30911200.0</td>\n",
       "      <td>311.88</td>\n",
       "      <td>0.005323</td>\n",
       "      <td>306.373571</td>\n",
       "      <td>298.3814</td>\n",
       "    </tr>\n",
       "    <tr>\n",
       "      <th>1507</th>\n",
       "      <td>2019-12-27</td>\n",
       "      <td>2019</td>\n",
       "      <td>12</td>\n",
       "      <td>27</td>\n",
       "      <td>&lt;bound method PandasDelegate._add_delegate_acc...</td>\n",
       "      <td>51</td>\n",
       "      <td>2019-51</td>\n",
       "      <td>323.74</td>\n",
       "      <td>323.80</td>\n",
       "      <td>322.28</td>\n",
       "      <td>322.86</td>\n",
       "      <td>42528800.0</td>\n",
       "      <td>311.80</td>\n",
       "      <td>-0.000248</td>\n",
       "      <td>307.030714</td>\n",
       "      <td>298.8820</td>\n",
       "    </tr>\n",
       "    <tr>\n",
       "      <th>1508</th>\n",
       "      <td>2019-12-30</td>\n",
       "      <td>2019</td>\n",
       "      <td>12</td>\n",
       "      <td>30</td>\n",
       "      <td>&lt;bound method PandasDelegate._add_delegate_acc...</td>\n",
       "      <td>52</td>\n",
       "      <td>2019-52</td>\n",
       "      <td>322.95</td>\n",
       "      <td>323.10</td>\n",
       "      <td>320.55</td>\n",
       "      <td>321.08</td>\n",
       "      <td>49729100.0</td>\n",
       "      <td>310.08</td>\n",
       "      <td>-0.005513</td>\n",
       "      <td>307.632857</td>\n",
       "      <td>299.3312</td>\n",
       "    </tr>\n",
       "    <tr>\n",
       "      <th>1509</th>\n",
       "      <td>2019-12-31</td>\n",
       "      <td>2019</td>\n",
       "      <td>12</td>\n",
       "      <td>31</td>\n",
       "      <td>&lt;bound method PandasDelegate._add_delegate_acc...</td>\n",
       "      <td>52</td>\n",
       "      <td>2019-52</td>\n",
       "      <td>320.53</td>\n",
       "      <td>322.13</td>\n",
       "      <td>320.15</td>\n",
       "      <td>321.86</td>\n",
       "      <td>57077300.0</td>\n",
       "      <td>310.84</td>\n",
       "      <td>0.002429</td>\n",
       "      <td>308.313571</td>\n",
       "      <td>299.8208</td>\n",
       "    </tr>\n",
       "  </tbody>\n",
       "</table>\n",
       "<p>1510 rows × 16 columns</p>\n",
       "</div>"
      ],
      "text/plain": [
       "            Date  Year  Month  Day  \\\n",
       "0     2014-01-02  2014      1    2   \n",
       "1     2014-01-03  2014      1    3   \n",
       "2     2014-01-06  2014      1    6   \n",
       "3     2014-01-07  2014      1    7   \n",
       "4     2014-01-08  2014      1    8   \n",
       "...          ...   ...    ...  ...   \n",
       "1505  2019-12-24  2019     12   24   \n",
       "1506  2019-12-26  2019     12   26   \n",
       "1507  2019-12-27  2019     12   27   \n",
       "1508  2019-12-30  2019     12   30   \n",
       "1509  2019-12-31  2019     12   31   \n",
       "\n",
       "                                                Weekday  Week_Number  \\\n",
       "0     <bound method PandasDelegate._add_delegate_acc...            0   \n",
       "1     <bound method PandasDelegate._add_delegate_acc...            0   \n",
       "2     <bound method PandasDelegate._add_delegate_acc...            1   \n",
       "3     <bound method PandasDelegate._add_delegate_acc...            1   \n",
       "4     <bound method PandasDelegate._add_delegate_acc...            1   \n",
       "...                                                 ...          ...   \n",
       "1505  <bound method PandasDelegate._add_delegate_acc...           51   \n",
       "1506  <bound method PandasDelegate._add_delegate_acc...           51   \n",
       "1507  <bound method PandasDelegate._add_delegate_acc...           51   \n",
       "1508  <bound method PandasDelegate._add_delegate_acc...           52   \n",
       "1509  <bound method PandasDelegate._add_delegate_acc...           52   \n",
       "\n",
       "     Year_Week    Open    High     Low   Close       Volume  Adj Close  \\\n",
       "0      2014-00  183.98  184.07  182.48  182.92  119636900.0     157.02   \n",
       "1      2014-00  183.23  183.60  182.63  182.89   81390600.0     156.99   \n",
       "2      2014-01  183.49  183.56  182.08  182.36  108028200.0     156.54   \n",
       "3      2014-01  183.09  183.79  182.95  183.48   86144200.0     157.50   \n",
       "4      2014-01  183.45  183.83  182.89  183.52   96582300.0     157.53   \n",
       "...        ...     ...     ...     ...     ...          ...        ...   \n",
       "1505   2019-51  321.47  321.52  320.90  321.23   20270000.0     310.23   \n",
       "1506   2019-51  321.65  322.95  321.64  322.94   30911200.0     311.88   \n",
       "1507   2019-51  323.74  323.80  322.28  322.86   42528800.0     311.80   \n",
       "1508   2019-52  322.95  323.10  320.55  321.08   49729100.0     310.08   \n",
       "1509   2019-52  320.53  322.13  320.15  321.86   57077300.0     310.84   \n",
       "\n",
       "        Return    Short_MA   Long_MA  \n",
       "0     0.000000  157.020000  157.0200  \n",
       "1    -0.000164  157.005000  157.0050  \n",
       "2    -0.002898  156.850000  156.8500  \n",
       "3     0.006142  157.012500  157.0125  \n",
       "4     0.000218  157.116000  157.1160  \n",
       "...        ...         ...       ...  \n",
       "1505  0.000031  305.515000  297.8884  \n",
       "1506  0.005323  306.373571  298.3814  \n",
       "1507 -0.000248  307.030714  298.8820  \n",
       "1508 -0.005513  307.632857  299.3312  \n",
       "1509  0.002429  308.313571  299.8208  \n",
       "\n",
       "[1510 rows x 16 columns]"
      ]
     },
     "execution_count": 2,
     "metadata": {},
     "output_type": "execute_result"
    }
   ],
   "source": [
    "df = pd.read_csv(\"SPY.csv\")\n",
    "df"
   ]
  },
  {
   "cell_type": "code",
   "execution_count": 3,
   "id": "61bda868",
   "metadata": {},
   "outputs": [],
   "source": [
    "df_grouped = df.groupby(['Year', 'Week_Number'])['Return'].agg([np.mean,np.std])\n",
    "df_grouped.reset_index(['Year', 'Week_Number'], inplace=True)\n",
    "df_grouped.rename(columns={'mean': 'mean_Return_μ','std':'std_Return_σ'}, inplace=True)"
   ]
  },
  {
   "cell_type": "code",
   "execution_count": 4,
   "id": "00858834",
   "metadata": {},
   "outputs": [],
   "source": [
    "def getWeeklyDifferences(df):\n",
    "    lastClosePrice = np.asarray(df.groupby([\"Year\", \"Week_Number\"]).last()[\"Close\"])\n",
    "    firstOpenPrice = np.asarray(df.groupby([\"Year\", \"Week_Number\"]).first()[\"Open\"])\n",
    "    return lastClosePrice - firstOpenPrice\n",
    "def getLabels(df):\n",
    "    weeklyDifferences = getWeeklyDifferences(df)\n",
    "    return [1 if x >= 0 else 0 for x in weeklyDifferences]"
   ]
  },
  {
   "cell_type": "code",
   "execution_count": 5,
   "id": "8b5c398f",
   "metadata": {},
   "outputs": [
    {
     "data": {
      "text/html": [
       "<div>\n",
       "<style scoped>\n",
       "    .dataframe tbody tr th:only-of-type {\n",
       "        vertical-align: middle;\n",
       "    }\n",
       "\n",
       "    .dataframe tbody tr th {\n",
       "        vertical-align: top;\n",
       "    }\n",
       "\n",
       "    .dataframe thead th {\n",
       "        text-align: right;\n",
       "    }\n",
       "</style>\n",
       "<table border=\"1\" class=\"dataframe\">\n",
       "  <thead>\n",
       "    <tr style=\"text-align: right;\">\n",
       "      <th></th>\n",
       "      <th>Year</th>\n",
       "      <th>Week_Number</th>\n",
       "      <th>mean_Return_μ</th>\n",
       "      <th>std_Return_σ</th>\n",
       "      <th>Weekly_Label</th>\n",
       "      <th>WeeklyDif</th>\n",
       "    </tr>\n",
       "  </thead>\n",
       "  <tbody>\n",
       "    <tr>\n",
       "      <th>0</th>\n",
       "      <td>2014</td>\n",
       "      <td>0</td>\n",
       "      <td>-0.000082</td>\n",
       "      <td>0.000116</td>\n",
       "      <td>0</td>\n",
       "      <td>-1.09</td>\n",
       "    </tr>\n",
       "    <tr>\n",
       "      <th>1</th>\n",
       "      <td>2014</td>\n",
       "      <td>1</td>\n",
       "      <td>0.001368</td>\n",
       "      <td>0.003341</td>\n",
       "      <td>1</td>\n",
       "      <td>0.65</td>\n",
       "    </tr>\n",
       "    <tr>\n",
       "      <th>2</th>\n",
       "      <td>2014</td>\n",
       "      <td>2</td>\n",
       "      <td>-0.000509</td>\n",
       "      <td>0.009262</td>\n",
       "      <td>0</td>\n",
       "      <td>-0.03</td>\n",
       "    </tr>\n",
       "    <tr>\n",
       "      <th>3</th>\n",
       "      <td>2014</td>\n",
       "      <td>3</td>\n",
       "      <td>-0.006484</td>\n",
       "      <td>0.011004</td>\n",
       "      <td>0</td>\n",
       "      <td>-5.81</td>\n",
       "    </tr>\n",
       "    <tr>\n",
       "      <th>4</th>\n",
       "      <td>2014</td>\n",
       "      <td>4</td>\n",
       "      <td>-0.000766</td>\n",
       "      <td>0.008598</td>\n",
       "      <td>0</td>\n",
       "      <td>-0.88</td>\n",
       "    </tr>\n",
       "    <tr>\n",
       "      <th>...</th>\n",
       "      <td>...</td>\n",
       "      <td>...</td>\n",
       "      <td>...</td>\n",
       "      <td>...</td>\n",
       "      <td>...</td>\n",
       "      <td>...</td>\n",
       "    </tr>\n",
       "    <tr>\n",
       "      <th>311</th>\n",
       "      <td>2019</td>\n",
       "      <td>48</td>\n",
       "      <td>0.000380</td>\n",
       "      <td>0.007765</td>\n",
       "      <td>1</td>\n",
       "      <td>0.28</td>\n",
       "    </tr>\n",
       "    <tr>\n",
       "      <th>312</th>\n",
       "      <td>2019</td>\n",
       "      <td>49</td>\n",
       "      <td>0.001560</td>\n",
       "      <td>0.004519</td>\n",
       "      <td>1</td>\n",
       "      <td>2.88</td>\n",
       "    </tr>\n",
       "    <tr>\n",
       "      <th>313</th>\n",
       "      <td>2019</td>\n",
       "      <td>50</td>\n",
       "      <td>0.003127</td>\n",
       "      <td>0.002932</td>\n",
       "      <td>1</td>\n",
       "      <td>1.51</td>\n",
       "    </tr>\n",
       "    <tr>\n",
       "      <th>314</th>\n",
       "      <td>2019</td>\n",
       "      <td>51</td>\n",
       "      <td>0.001659</td>\n",
       "      <td>0.002564</td>\n",
       "      <td>1</td>\n",
       "      <td>1.27</td>\n",
       "    </tr>\n",
       "    <tr>\n",
       "      <th>315</th>\n",
       "      <td>2019</td>\n",
       "      <td>52</td>\n",
       "      <td>-0.001542</td>\n",
       "      <td>0.005616</td>\n",
       "      <td>0</td>\n",
       "      <td>-1.09</td>\n",
       "    </tr>\n",
       "  </tbody>\n",
       "</table>\n",
       "<p>314 rows × 6 columns</p>\n",
       "</div>"
      ],
      "text/plain": [
       "     Year  Week_Number  mean_Return_μ  std_Return_σ  Weekly_Label  WeeklyDif\n",
       "0    2014            0      -0.000082      0.000116             0      -1.09\n",
       "1    2014            1       0.001368      0.003341             1       0.65\n",
       "2    2014            2      -0.000509      0.009262             0      -0.03\n",
       "3    2014            3      -0.006484      0.011004             0      -5.81\n",
       "4    2014            4      -0.000766      0.008598             0      -0.88\n",
       "..    ...          ...            ...           ...           ...        ...\n",
       "311  2019           48       0.000380      0.007765             1       0.28\n",
       "312  2019           49       0.001560      0.004519             1       2.88\n",
       "313  2019           50       0.003127      0.002932             1       1.51\n",
       "314  2019           51       0.001659      0.002564             1       1.27\n",
       "315  2019           52      -0.001542      0.005616             0      -1.09\n",
       "\n",
       "[314 rows x 6 columns]"
      ]
     },
     "execution_count": 5,
     "metadata": {},
     "output_type": "execute_result"
    }
   ],
   "source": [
    "df_grouped['Weekly_Label']=getLabels(df)\n",
    "df_grouped['WeeklyDif'] = getWeeklyDifferences(df)\n",
    "df_grouped.dropna(inplace=True)\n",
    "df_grouped"
   ]
  },
  {
   "cell_type": "code",
   "execution_count": 6,
   "id": "1e98894b",
   "metadata": {},
   "outputs": [],
   "source": [
    "df_train = df_grouped[df_grouped.Year == 2015]\n",
    "df_pre = df_grouped[df_grouped.Year == 2016]"
   ]
  },
  {
   "cell_type": "code",
   "execution_count": 7,
   "id": "dfd75050",
   "metadata": {},
   "outputs": [],
   "source": [
    "from sklearn.discriminant_analysis import LinearDiscriminantAnalysis as LDA\n",
    "from sklearn.discriminant_analysis import QuadraticDiscriminantAnalysis as QDA\n",
    "\n",
    "X_train, y_train = df_train[['mean_Return_μ', 'std_Return_σ']], df_train['Weekly_Label']\n",
    "X_test, y_test = df_pre[['mean_Return_μ', 'std_Return_σ']], df_pre['Weekly_Label']\n",
    "\n",
    "from sklearn.preprocessing import StandardScaler\n",
    "#scale the data\n",
    "sc = StandardScaler()\n",
    "X_train = sc.fit_transform(X_train)\n",
    "X_test = sc.transform(X_test)"
   ]
  },
  {
   "cell_type": "markdown",
   "id": "4d0a2d61",
   "metadata": {},
   "source": [
    "### LDA"
   ]
  },
  {
   "cell_type": "code",
   "execution_count": 8,
   "id": "8a277ef2",
   "metadata": {},
   "outputs": [
    {
     "data": {
      "text/plain": [
       "LinearDiscriminantAnalysis()"
      ]
     },
     "execution_count": 8,
     "metadata": {},
     "output_type": "execute_result"
    }
   ],
   "source": [
    "lda = LDA()\n",
    "lda.fit(X_train,y_train)"
   ]
  },
  {
   "cell_type": "code",
   "execution_count": 9,
   "id": "f23eb4b8",
   "metadata": {},
   "outputs": [
    {
     "data": {
      "text/plain": [
       "array([[3.40522379, 0.18402637]])"
      ]
     },
     "execution_count": 9,
     "metadata": {},
     "output_type": "execute_result"
    }
   ],
   "source": [
    "#Question1 equation\n",
    "lda.coef_"
   ]
  },
  {
   "cell_type": "code",
   "execution_count": 10,
   "id": "577dc799",
   "metadata": {},
   "outputs": [
    {
     "data": {
      "text/plain": [
       "array([0.35192884])"
      ]
     },
     "execution_count": 10,
     "metadata": {},
     "output_type": "execute_result"
    }
   ],
   "source": [
    "lda.intercept_"
   ]
  },
  {
   "cell_type": "code",
   "execution_count": 11,
   "id": "392ee837",
   "metadata": {},
   "outputs": [],
   "source": [
    "from sklearn.metrics import accuracy_score\n",
    "predict_lda = lda.predict(X_test)"
   ]
  },
  {
   "cell_type": "code",
   "execution_count": 12,
   "id": "e56e0cb6",
   "metadata": {},
   "outputs": [
    {
     "data": {
      "text/plain": [
       "array([[19,  3],\n",
       "       [ 2, 28]], dtype=int64)"
      ]
     },
     "execution_count": 12,
     "metadata": {},
     "output_type": "execute_result"
    }
   ],
   "source": [
    "from sklearn.metrics import confusion_matrix\n",
    "from sklearn import metrics\n",
    "confusion_matrix(y_test, predict_lda)"
   ]
  },
  {
   "cell_type": "code",
   "execution_count": 13,
   "id": "16309032",
   "metadata": {},
   "outputs": [
    {
     "name": "stdout",
     "output_type": "stream",
     "text": [
      "              precision    recall  f1-score   support\n",
      "\n",
      "           0       0.90      0.86      0.88        22\n",
      "           1       0.90      0.93      0.92        30\n",
      "\n",
      "    accuracy                           0.90        52\n",
      "   macro avg       0.90      0.90      0.90        52\n",
      "weighted avg       0.90      0.90      0.90        52\n",
      "\n"
     ]
    }
   ],
   "source": [
    "print(metrics.classification_report(y_test, predict_lda))"
   ]
  },
  {
   "cell_type": "markdown",
   "id": "eccd968c",
   "metadata": {},
   "source": [
    "accuracy: 0.90 sencitive rate: 0.93 specificity rate: 0.86"
   ]
  },
  {
   "cell_type": "markdown",
   "id": "e0c1e4e0",
   "metadata": {},
   "source": [
    "### QDA"
   ]
  },
  {
   "cell_type": "code",
   "execution_count": 14,
   "id": "63dc1684",
   "metadata": {},
   "outputs": [
    {
     "data": {
      "text/plain": [
       "QuadraticDiscriminantAnalysis()"
      ]
     },
     "execution_count": 14,
     "metadata": {},
     "output_type": "execute_result"
    }
   ],
   "source": [
    "from sklearn.discriminant_analysis import QuadraticDiscriminantAnalysis as QDA\n",
    "qda = QDA()\n",
    "qda.fit(X_train, y_train)"
   ]
  },
  {
   "cell_type": "code",
   "execution_count": 15,
   "id": "c38aae4c",
   "metadata": {},
   "outputs": [],
   "source": [
    "predict_qda = qda.predict(X_test)"
   ]
  },
  {
   "cell_type": "code",
   "execution_count": 16,
   "id": "deb2ce84",
   "metadata": {},
   "outputs": [
    {
     "data": {
      "text/plain": [
       "array([[20,  2],\n",
       "       [ 1, 29]], dtype=int64)"
      ]
     },
     "execution_count": 16,
     "metadata": {},
     "output_type": "execute_result"
    }
   ],
   "source": [
    "confusion_matrix(y_test,predict_qda)"
   ]
  },
  {
   "cell_type": "code",
   "execution_count": 17,
   "id": "8ad366ab",
   "metadata": {},
   "outputs": [
    {
     "name": "stdout",
     "output_type": "stream",
     "text": [
      "              precision    recall  f1-score   support\n",
      "\n",
      "           0       0.95      0.91      0.93        22\n",
      "           1       0.94      0.97      0.95        30\n",
      "\n",
      "    accuracy                           0.94        52\n",
      "   macro avg       0.94      0.94      0.94        52\n",
      "weighted avg       0.94      0.94      0.94        52\n",
      "\n"
     ]
    }
   ],
   "source": [
    "print(metrics.classification_report(y_test, predict_qda))"
   ]
  },
  {
   "cell_type": "markdown",
   "id": "45cbd4b5",
   "metadata": {},
   "source": [
    "accuracy: 0.94   sensitive rate: 0.97  specificity rate: 0.91"
   ]
  },
  {
   "cell_type": "markdown",
   "id": "f2896ab2",
   "metadata": {},
   "source": [
    "### trading strategy"
   ]
  },
  {
   "cell_type": "code",
   "execution_count": 20,
   "id": "52a13ba4",
   "metadata": {},
   "outputs": [],
   "source": [
    "test = df[df.Year == 2016]\n",
    "weeklyDifferences = getWeeklyDifferences(test)\n",
    "weeklyOpens = test.groupby([\"Year\", \"Week_Number\"]).first().Open\n",
    "weeklyCloses = test.groupby([\"Year\", \"Week_Number\"]).last().Close\n",
    "\n",
    "percentGains = np.asarray((weeklyCloses - weeklyOpens) / weeklyOpens)\n",
    "dailyPercentGains = np.asarray((test.Close - test.Open)/test.Open)\n",
    "\n",
    "initialInvestment = 100\n",
    "buyAndHold = [initialInvestment]"
   ]
  },
  {
   "cell_type": "code",
   "execution_count": 21,
   "id": "29778d60",
   "metadata": {},
   "outputs": [],
   "source": [
    "#Buy and Hold\n",
    "#PercentGains are weekly so this will take of the weeks\n",
    "labels = list(range(len(percentGains) + 1))\n",
    "\n",
    "for pg in percentGains:\n",
    "    buyAndHold.append(buyAndHold[-1] * (1 + pg)) if pg >= 0 else buyAndHold.append(buyAndHold[-1] / (1 - pg) )    "
   ]
  },
  {
   "cell_type": "code",
   "execution_count": 22,
   "id": "081d5472",
   "metadata": {},
   "outputs": [],
   "source": [
    "#lda portfolio\n",
    "ldaPortfolio = [initialInvestment]\n",
    "\n",
    "for index  in range(len(predict_lda)):\n",
    "    pg = percentGains[index]\n",
    "    if predict_lda[index] == 1:\n",
    "        ldaPortfolio.append(ldaPortfolio[-1] * (1 + pg)) if pg >= 0 else ldaPortfolio.append(buyAndHold[-1] / (1 - pg) )  \n",
    "    else:\n",
    "        ldaPortfolio.append(ldaPortfolio[-1])"
   ]
  },
  {
   "cell_type": "code",
   "execution_count": 23,
   "id": "d0519ffa",
   "metadata": {},
   "outputs": [],
   "source": [
    "#qda portfolio\n",
    "qdaPortfolio = [initialInvestment]\n",
    "\n",
    "for index  in range(len(predict_qda)):\n",
    "    pg = percentGains[index]\n",
    "    if predict_qda[index] == 1:\n",
    "        qdaPortfolio.append(qdaPortfolio[-1] * (1 + pg)) if pg >= 0 else qdaPortfolio.append(buyAndHold[-1] / (1 - pg) )  \n",
    "    else:\n",
    "        qdaPortfolio.append(qdaPortfolio[-1])"
   ]
  },
  {
   "cell_type": "code",
   "execution_count": 28,
   "id": "ade9c111",
   "metadata": {},
   "outputs": [
    {
     "data": {
      "text/plain": [
       "<matplotlib.legend.Legend at 0x15360f164f0>"
      ]
     },
     "execution_count": 28,
     "metadata": {},
     "output_type": "execute_result"
    },
    {
     "data": {
      "image/png": "[encoded data removed]",
      "text/plain": [
       "<Figure size 432x288 with 1 Axes>"
      ]
     },
     "metadata": {
      "needs_background": "light"
     },
     "output_type": "display_data"
    }
   ],
   "source": [
    "import matplotlib.pyplot as plt\n",
    "plt.plot(labels, buyAndHold)\n",
    "plt.plot(labels, ldaPortfolio, label = \"lda\")\n",
    "plt.plot(labels, qdaPortfolio, label = 'qda')\n",
    "plt.legend([\"buyAndHold\", \"lda\", \"qda\"])"
   ]
  },
  {
   "cell_type": "markdown",
   "id": "0828b634",
   "metadata": {},
   "source": [
    "       The qda strategy has the best performance. Also, the accuracy of QDA is higher than LDA in this stock."
   ]
  }
 ],
 "metadata": {
  "kernelspec": {
   "display_name": "Python 3 (ipykernel)",
   "language": "python",
   "name": "python3"
  },
  "language_info": {
   "codemirror_mode": {
    "name": "ipython",
    "version": 3
   },
   "file_extension": ".py",
   "mimetype": "text/x-python",
   "name": "python",
   "nbconvert_exporter": "python",
   "pygments_lexer": "ipython3",
   "version": "3.9.7"
  }
 },
 "nbformat": 4,
 "nbformat_minor": 5
}
