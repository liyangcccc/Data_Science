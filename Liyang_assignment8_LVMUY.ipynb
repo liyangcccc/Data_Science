{
 "cells": [
  {
   "cell_type": "code",
   "execution_count": 1,
   "id": "c6cef464",
   "metadata": {},
   "outputs": [],
   "source": [
    "import pandas as pd\n",
    "import numpy as np\n",
    "from sklearn import svm\n",
    "from sklearn.preprocessing import StandardScaler"
   ]
  },
  {
   "cell_type": "code",
   "execution_count": 2,
   "id": "5f0e40ba",
   "metadata": {},
   "outputs": [],
   "source": [
    "df = pd.read_csv(\"LVMUY.csv\")"
   ]
  },
  {
   "cell_type": "code",
   "execution_count": 3,
   "id": "cd1b2876",
   "metadata": {},
   "outputs": [],
   "source": [
    "df_grouped = df.groupby(['Year', 'Week_Number'])['Return'].agg([np.mean,np.std])\n",
    "df_grouped.reset_index(['Year', 'Week_Number'], inplace=True)\n",
    "df_grouped.rename(columns={'mean': 'mean_Return_μ','std':'std_Return_σ'}, inplace=True)"
   ]
  },
  {
   "cell_type": "code",
   "execution_count": 4,
   "id": "3c6d0bab",
   "metadata": {},
   "outputs": [],
   "source": [
    "def getWeeklyDifferences(df):\n",
    "    lastClosePrice = np.asarray(df.groupby([\"Year\", \"Week_Number\"]).last()[\"Close\"])\n",
    "    firstOpenPrice = np.asarray(df.groupby([\"Year\", \"Week_Number\"]).first()[\"Open\"])\n",
    "    return lastClosePrice - firstOpenPrice\n",
    "def getLabels(df):\n",
    "    weeklyDifferences = getWeeklyDifferences(df)\n",
    "    return [1 if x >= 0 else 0 for x in weeklyDifferences]"
   ]
  },
  {
   "cell_type": "code",
   "execution_count": 5,
   "id": "e5473a71",
   "metadata": {},
   "outputs": [
    {
     "data": {
      "text/html": [
       "<div>\n",
       "<style scoped>\n",
       "    .dataframe tbody tr th:only-of-type {\n",
       "        vertical-align: middle;\n",
       "    }\n",
       "\n",
       "    .dataframe tbody tr th {\n",
       "        vertical-align: top;\n",
       "    }\n",
       "\n",
       "    .dataframe thead th {\n",
       "        text-align: right;\n",
       "    }\n",
       "</style>\n",
       "<table border=\"1\" class=\"dataframe\">\n",
       "  <thead>\n",
       "    <tr style=\"text-align: right;\">\n",
       "      <th></th>\n",
       "      <th>Year</th>\n",
       "      <th>Week_Number</th>\n",
       "      <th>mean_Return_μ</th>\n",
       "      <th>std_Return_σ</th>\n",
       "      <th>Weekly_Label</th>\n",
       "      <th>WeeklyDif</th>\n",
       "    </tr>\n",
       "  </thead>\n",
       "  <tbody>\n",
       "    <tr>\n",
       "      <th>0</th>\n",
       "      <td>2014</td>\n",
       "      <td>0</td>\n",
       "      <td>-0.005560</td>\n",
       "      <td>0.007863</td>\n",
       "      <td>0</td>\n",
       "      <td>-0.32</td>\n",
       "    </tr>\n",
       "    <tr>\n",
       "      <th>1</th>\n",
       "      <td>2014</td>\n",
       "      <td>1</td>\n",
       "      <td>-0.006661</td>\n",
       "      <td>0.017478</td>\n",
       "      <td>0</td>\n",
       "      <td>-0.82</td>\n",
       "    </tr>\n",
       "    <tr>\n",
       "      <th>2</th>\n",
       "      <td>2014</td>\n",
       "      <td>2</td>\n",
       "      <td>-0.000721</td>\n",
       "      <td>0.009552</td>\n",
       "      <td>0</td>\n",
       "      <td>-0.12</td>\n",
       "    </tr>\n",
       "    <tr>\n",
       "      <th>3</th>\n",
       "      <td>2014</td>\n",
       "      <td>3</td>\n",
       "      <td>-0.002957</td>\n",
       "      <td>0.018201</td>\n",
       "      <td>0</td>\n",
       "      <td>-1.31</td>\n",
       "    </tr>\n",
       "    <tr>\n",
       "      <th>4</th>\n",
       "      <td>2014</td>\n",
       "      <td>4</td>\n",
       "      <td>0.010164</td>\n",
       "      <td>0.022332</td>\n",
       "      <td>1</td>\n",
       "      <td>1.80</td>\n",
       "    </tr>\n",
       "    <tr>\n",
       "      <th>...</th>\n",
       "      <td>...</td>\n",
       "      <td>...</td>\n",
       "      <td>...</td>\n",
       "      <td>...</td>\n",
       "      <td>...</td>\n",
       "      <td>...</td>\n",
       "    </tr>\n",
       "    <tr>\n",
       "      <th>311</th>\n",
       "      <td>2019</td>\n",
       "      <td>48</td>\n",
       "      <td>-0.000431</td>\n",
       "      <td>0.012718</td>\n",
       "      <td>0</td>\n",
       "      <td>-0.54</td>\n",
       "    </tr>\n",
       "    <tr>\n",
       "      <th>312</th>\n",
       "      <td>2019</td>\n",
       "      <td>49</td>\n",
       "      <td>0.002777</td>\n",
       "      <td>0.006309</td>\n",
       "      <td>1</td>\n",
       "      <td>1.36</td>\n",
       "    </tr>\n",
       "    <tr>\n",
       "      <th>313</th>\n",
       "      <td>2019</td>\n",
       "      <td>50</td>\n",
       "      <td>0.002657</td>\n",
       "      <td>0.012763</td>\n",
       "      <td>0</td>\n",
       "      <td>-0.49</td>\n",
       "    </tr>\n",
       "    <tr>\n",
       "      <th>314</th>\n",
       "      <td>2019</td>\n",
       "      <td>51</td>\n",
       "      <td>0.006299</td>\n",
       "      <td>0.005811</td>\n",
       "      <td>1</td>\n",
       "      <td>1.81</td>\n",
       "    </tr>\n",
       "    <tr>\n",
       "      <th>315</th>\n",
       "      <td>2019</td>\n",
       "      <td>52</td>\n",
       "      <td>-0.000212</td>\n",
       "      <td>0.003338</td>\n",
       "      <td>0</td>\n",
       "      <td>-0.13</td>\n",
       "    </tr>\n",
       "  </tbody>\n",
       "</table>\n",
       "<p>314 rows × 6 columns</p>\n",
       "</div>"
      ],
      "text/plain": [
       "     Year  Week_Number  mean_Return_μ  std_Return_σ  Weekly_Label  WeeklyDif\n",
       "0    2014            0      -0.005560      0.007863             0      -0.32\n",
       "1    2014            1      -0.006661      0.017478             0      -0.82\n",
       "2    2014            2      -0.000721      0.009552             0      -0.12\n",
       "3    2014            3      -0.002957      0.018201             0      -1.31\n",
       "4    2014            4       0.010164      0.022332             1       1.80\n",
       "..    ...          ...            ...           ...           ...        ...\n",
       "311  2019           48      -0.000431      0.012718             0      -0.54\n",
       "312  2019           49       0.002777      0.006309             1       1.36\n",
       "313  2019           50       0.002657      0.012763             0      -0.49\n",
       "314  2019           51       0.006299      0.005811             1       1.81\n",
       "315  2019           52      -0.000212      0.003338             0      -0.13\n",
       "\n",
       "[314 rows x 6 columns]"
      ]
     },
     "execution_count": 5,
     "metadata": {},
     "output_type": "execute_result"
    }
   ],
   "source": [
    "df_grouped['Weekly_Label']=getLabels(df)\n",
    "df_grouped['WeeklyDif'] = getWeeklyDifferences(df)\n",
    "df_grouped.dropna(inplace=True)\n",
    "df_grouped"
   ]
  },
  {
   "cell_type": "code",
   "execution_count": 6,
   "id": "0b1ad7e5",
   "metadata": {},
   "outputs": [],
   "source": [
    "df_train = df_grouped[df_grouped.Year == 2015]\n",
    "df_pre = df_grouped[df_grouped.Year == 2016]"
   ]
  },
  {
   "cell_type": "code",
   "execution_count": 7,
   "id": "cd289f42",
   "metadata": {},
   "outputs": [],
   "source": [
    "X_train, y_train = df_train[['mean_Return_μ', 'std_Return_σ']], df_train['Weekly_Label']\n",
    "X_test, y_test = df_pre[['mean_Return_μ', 'std_Return_σ']], df_pre['Weekly_Label']"
   ]
  },
  {
   "cell_type": "code",
   "execution_count": 8,
   "id": "a9d7bc06",
   "metadata": {},
   "outputs": [],
   "source": [
    "sc = StandardScaler()\n",
    "X_train = sc.fit_transform(X_train)\n",
    "X_test = sc.transform(X_test)"
   ]
  },
  {
   "cell_type": "code",
   "execution_count": 9,
   "id": "98ad7f28",
   "metadata": {},
   "outputs": [],
   "source": [
    "#linear SVM\n",
    "svm_classifier = svm.SVC(kernel='linear')\n",
    "svm_classifier.fit(X_train, y_train)\n",
    "pred_Y = svm_classifier.predict(X_test)"
   ]
  },
  {
   "cell_type": "code",
   "execution_count": 10,
   "id": "7d8d45e8",
   "metadata": {},
   "outputs": [
    {
     "data": {
      "text/plain": [
       "array([[22,  1],\n",
       "       [ 1, 28]], dtype=int64)"
      ]
     },
     "execution_count": 10,
     "metadata": {},
     "output_type": "execute_result"
    }
   ],
   "source": [
    "from sklearn.metrics import confusion_matrix\n",
    "from sklearn import metrics\n",
    "confusion_matrix(y_test, pred_Y)"
   ]
  },
  {
   "cell_type": "code",
   "execution_count": 11,
   "id": "d3fd6b31",
   "metadata": {},
   "outputs": [
    {
     "name": "stdout",
     "output_type": "stream",
     "text": [
      "              precision    recall  f1-score   support\n",
      "\n",
      "           0       0.96      0.96      0.96        23\n",
      "           1       0.97      0.97      0.97        29\n",
      "\n",
      "    accuracy                           0.96        52\n",
      "   macro avg       0.96      0.96      0.96        52\n",
      "weighted avg       0.96      0.96      0.96        52\n",
      "\n"
     ]
    }
   ],
   "source": [
    "print(metrics.classification_report(y_test, pred_Y))"
   ]
  },
  {
   "cell_type": "markdown",
   "id": "8204987b",
   "metadata": {},
   "source": [
    "The accuracy of linear SVM is: 0.96.\n",
    "sensitive rate: 0.97\n",
    "specificity rate: 0.96"
   ]
  },
  {
   "cell_type": "code",
   "execution_count": 12,
   "id": "00a4f870",
   "metadata": {},
   "outputs": [],
   "source": [
    "# Gaussian SVM\n",
    "Gsvm_classifier = svm.SVC(kernel='rbf')\n",
    "Gsvm_classifier.fit(X_train, y_train)\n",
    "pred_svm = Gsvm_classifier.predict(X_test)"
   ]
  },
  {
   "cell_type": "code",
   "execution_count": 13,
   "id": "3d59ad71",
   "metadata": {},
   "outputs": [
    {
     "data": {
      "text/plain": [
       "array([[16,  7],\n",
       "       [ 3, 26]], dtype=int64)"
      ]
     },
     "execution_count": 13,
     "metadata": {},
     "output_type": "execute_result"
    }
   ],
   "source": [
    "confusion_matrix(y_test, pred_svm)"
   ]
  },
  {
   "cell_type": "code",
   "execution_count": 14,
   "id": "077947ec",
   "metadata": {},
   "outputs": [
    {
     "name": "stdout",
     "output_type": "stream",
     "text": [
      "              precision    recall  f1-score   support\n",
      "\n",
      "           0       0.84      0.70      0.76        23\n",
      "           1       0.79      0.90      0.84        29\n",
      "\n",
      "    accuracy                           0.81        52\n",
      "   macro avg       0.81      0.80      0.80        52\n",
      "weighted avg       0.81      0.81      0.80        52\n",
      "\n"
     ]
    }
   ],
   "source": [
    "print(metrics.classification_report(y_test, pred_svm))"
   ]
  },
  {
   "cell_type": "markdown",
   "id": "4b684f00",
   "metadata": {},
   "source": [
    "We can see the accucy of linear svm is higher, which is 0.83."
   ]
  },
  {
   "cell_type": "code",
   "execution_count": 15,
   "id": "5b531874",
   "metadata": {},
   "outputs": [],
   "source": [
    "# polynomial SVM with dgree = 2\n",
    "Psvm_classifier = svm.SVC(kernel='poly', degree=2)\n",
    "Psvm_classifier.fit(X_train, y_train)\n",
    "pred_Y = Psvm_classifier.predict(X_test)"
   ]
  },
  {
   "cell_type": "code",
   "execution_count": 16,
   "id": "5f45742f",
   "metadata": {},
   "outputs": [
    {
     "name": "stdout",
     "output_type": "stream",
     "text": [
      "              precision    recall  f1-score   support\n",
      "\n",
      "           0       0.42      0.61      0.50        23\n",
      "           1       0.53      0.34      0.42        29\n",
      "\n",
      "    accuracy                           0.46        52\n",
      "   macro avg       0.48      0.48      0.46        52\n",
      "weighted avg       0.48      0.46      0.45        52\n",
      "\n"
     ]
    }
   ],
   "source": [
    "print(metrics.classification_report(y_test, pred_Y))"
   ]
  },
  {
   "cell_type": "markdown",
   "id": "75a2571b",
   "metadata": {},
   "source": [
    "Based on the accuracy. Linear SVM is still better than polynomial SVM"
   ]
  },
  {
   "cell_type": "code",
   "execution_count": 17,
   "id": "c8d6c9e3",
   "metadata": {},
   "outputs": [],
   "source": [
    "#trading stratefy\n",
    "test = df[df.Year == 2016]\n",
    "weeklyDifferences = getWeeklyDifferences(test)\n",
    "weeklyOpens = test.groupby([\"Year\", \"Week_Number\"]).first().Open\n",
    "weeklyCloses = test.groupby([\"Year\", \"Week_Number\"]).last().Close\n",
    "\n",
    "percentGains = np.asarray((weeklyCloses - weeklyOpens) / weeklyOpens)\n",
    "dailyPercentGains = np.asarray((test.Close - test.Open)/test.Open)\n",
    "\n",
    "initialInvestment = 100\n",
    "buyAndHold = [initialInvestment]"
   ]
  },
  {
   "cell_type": "code",
   "execution_count": 18,
   "id": "35409763",
   "metadata": {},
   "outputs": [],
   "source": [
    "#Buy and Hold\n",
    "#PercentGains are weekly so this will take of the weeks\n",
    "labels = list(range(len(percentGains) + 1))\n",
    "\n",
    "for pg in percentGains:\n",
    "    buyAndHold.append(buyAndHold[-1] * (1 + pg)) if pg >= 0 else buyAndHold.append(buyAndHold[-1] / (1 - pg) )    "
   ]
  },
  {
   "cell_type": "code",
   "execution_count": 19,
   "id": "98a3c928",
   "metadata": {},
   "outputs": [],
   "source": [
    "#linear scm portfolio\n",
    "svmPortfolio = [initialInvestment]\n",
    "\n",
    "for index  in range(len(pred_svm)):\n",
    "    pg = percentGains[index]\n",
    "    if pred_svm[index] == 1:\n",
    "        svmPortfolio.append(svmPortfolio[-1] * (1 + pg)) if pg >= 0 else svmPortfolio.append(buyAndHold[-1] / (1 - pg) )  \n",
    "    else:\n",
    "        svmPortfolio.append(svmPortfolio[-1])"
   ]
  },
  {
   "cell_type": "code",
   "execution_count": 20,
   "id": "aaef9166",
   "metadata": {},
   "outputs": [
    {
     "data": {
      "text/plain": [
       "<matplotlib.legend.Legend at 0x27f3e1d7c10>"
      ]
     },
     "execution_count": 20,
     "metadata": {},
     "output_type": "execute_result"
    },
    {
     "data": {
      "image/png": "[encoded data removed]",
      "text/plain": [
       "<Figure size 432x288 with 1 Axes>"
      ]
     },
     "metadata": {
      "needs_background": "light"
     },
     "output_type": "display_data"
    }
   ],
   "source": [
    "import matplotlib.pyplot as plt\n",
    "plt.plot(labels, buyAndHold)\n",
    "plt.plot(labels, svmPortfolio, label = \"svm\")\n",
    "plt.legend([\"buyandHold\", \"svm\"], loc =\"lower left\")"
   ]
  },
  {
   "cell_type": "markdown",
   "id": "665ccbf5",
   "metadata": {},
   "source": [
    "The linear svm performed better."
   ]
  }
 ],
 "metadata": {
  "kernelspec": {
   "display_name": "Python 3 (ipykernel)",
   "language": "python",
   "name": "python3"
  },
  "language_info": {
   "codemirror_mode": {
    "name": "ipython",
    "version": 3
   },
   "file_extension": ".py",
   "mimetype": "text/x-python",
   "name": "python",
   "nbconvert_exporter": "python",
   "pygments_lexer": "ipython3",
   "version": "3.9.7"
  }
 },
 "nbformat": 4,
 "nbformat_minor": 5
}
