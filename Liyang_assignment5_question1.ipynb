{
 "cells": [
  {
   "cell_type": "code",
   "execution_count": 15,
   "id": "af726458",
   "metadata": {},
   "outputs": [],
   "source": [
    "from pandas_datareader import data as web\n",
    "import os\n",
    "import pandas as pd\n",
    "import numpy as np\n",
    "from sklearn.preprocessing import StandardScaler, LabelEncoder\n",
    "from sklearn.linear_model import LinearRegression, LogisticRegression\n",
    "from sklearn.neighbors import KNeighborsClassifier\n",
    "from sklearn.metrics import confusion_matrix\n",
    "from sklearn.model_selection import train_test_split"
   ]
  },
  {
   "cell_type": "code",
   "execution_count": 14,
   "id": "97e18b54",
   "metadata": {},
   "outputs": [
    {
     "name": "stdout",
     "output_type": "stream",
     "text": [
      "read  1258  lines of data for ticker:  LVMUY\n",
      "wrote 1258 lines to file: D:\\systemdefalt\\desktop\\CS677\\assignment2\\LVMUY.csv\n"
     ]
    }
   ],
   "source": [
    "def get_stock(ticker, start_date, end_date, s_window, l_window):\n",
    "    try:\n",
    "        df = web.get_data_yahoo(ticker, start=start_date, end=end_date)\n",
    "        df['Return'] = df['Adj Close'].pct_change()\n",
    "        df['Return'].fillna(0, inplace = True)\n",
    "        df['Date'] = df.index\n",
    "        df['Date'] = pd.to_datetime(df['Date'])\n",
    "        df['Month'] = df['Date'].dt.month\n",
    "        df['Year'] = df['Date'].dt.year \n",
    "        df['Day'] = df['Date'].dt.day\n",
    "        for col in ['Open', 'High', 'Low', 'Close', 'Adj Close']:\n",
    "            df[col] = df[col].round(2)\n",
    "#        df['Weekday'] = df['Date'].dt.weekday_name  \n",
    "        df['Weekday'] = df['Date'].dt.day_name       \n",
    "        df['Week_Number'] = df['Date'].dt.strftime('%U')\n",
    "        df['Year_Week'] = df['Date'].dt.strftime('%Y-%U')\n",
    "        df['Short_MA'] = df['Adj Close'].rolling(window=s_window, min_periods=1).mean()\n",
    "        df['Long_MA'] = df['Adj Close'].rolling(window=l_window, min_periods=1).mean()        \n",
    "        col_list = ['Date', 'Year', 'Month', 'Day', 'Weekday', \n",
    "                    'Week_Number', 'Year_Week', 'Open', \n",
    "                    'High', 'Low', 'Close', 'Volume', 'Adj Close',\n",
    "                    'Return', 'Short_MA', 'Long_MA']\n",
    "        num_lines = len(df)\n",
    "        df = df[col_list]\n",
    "        print('read ', num_lines, ' lines of data for ticker: ' , ticker)\n",
    "        return df\n",
    "    except Exception as error:\n",
    "        print(error)\n",
    "        return None\n",
    "    \n",
    "try:\n",
    "    ticker='LVMUY'\n",
    "    input_dir = r'D:\\systemdefalt\\desktop\\CS677\\assignment2'\n",
    "    output_file = os.path.join(input_dir, ticker + '.csv')\n",
    "    df = get_stock(ticker, start_date='2015-01-01', end_date='2019-12-31', \n",
    "               s_window=14, l_window=50)\n",
    "    df.to_csv(output_file, index=False)\n",
    "    print('wrote ' + str(len(df)) + ' lines to file: ' + output_file)\n",
    "except Exception as e:\n",
    "    print(e)\n",
    "    print('failed to get Yahoo stock data for ticker: ', ticker)"
   ]
  },
  {
   "cell_type": "code",
   "execution_count": 16,
   "id": "9342a85c",
   "metadata": {},
   "outputs": [],
   "source": [
    "    def weekly_return_volatility(data, start_date, end_date):\n",
    "        \"\"\"\n",
    "        calculate the weekly mean return and volatility\n",
    "        & create a new file to contain these infor\n",
    "        \"\"\"\n",
    "        try:\n",
    "            df_2 = data[data['Date'] >= start_date]\n",
    "            df_2 = df_2[df_2['Date'] <= end_date]\n",
    "            df_2 = df_2[['Year', 'Week_Number', 'Open', 'Adj Close', 'Return']]\n",
    "            df_2.index = range(len(df_2))\n",
    "            df_grouped = df_2.groupby(['Year', 'Week_Number'])['Return'].agg([np.mean, np.std])\n",
    "            df_grouped.reset_index(['Year', 'Week_Number'], inplace=True)\n",
    "            df_grouped.rename(columns={'mean': 'mean_return', 'std':'volatility'}, inplace=True)\n",
    "            df_grouped.fillna(0, inplace=True)\n",
    "            df_grouped[\"Open\"] = df_2.groupby([\"Year\", \"Week_Number\"])[\"Open\"].head(1).\\\n",
    "                                 reset_index(drop = True).copy()\n",
    "            df_grouped[\"Adj Close\"] = df_2.groupby([\"Year\", \"Week_Number\"])[\"Adj Close\"].tail(1).\\\n",
    "                                      reset_index(drop = True).copy()\n",
    "            return df_grouped\n",
    "        except Exception as error:\n",
    "            print(error)\n",
    "            return None"
   ]
  },
  {
   "cell_type": "code",
   "execution_count": 21,
   "id": "6066fa53",
   "metadata": {},
   "outputs": [],
   "source": [
    "    try:\n",
    "        df_weekly = weekly_return_volatility(df, start_date='2018-01-01', end_date='2019-12-31')\n",
    "    except Exception as e:\n",
    "        print(\"Error in weekly_return_volatility: \", end = \" \")\n",
    "        print(e)"
   ]
  },
  {
   "cell_type": "code",
   "execution_count": 22,
   "id": "3575fcb2",
   "metadata": {},
   "outputs": [],
   "source": [
    "    def weekly_label(data, year):\n",
    "        try:\n",
    "            df_label = data[data[\"Year\"] == year].copy()\n",
    "            mean_return_percent50 = np.percentile(df_label[\"mean_return\"], 50)\n",
    "            volatility_percent50 = np.percentile(df_label[\"volatility\"], 50)      \n",
    "            df_label[\"True Label\"] = np.where((df_label[\"mean_return\"] >= mean_return_percent50) & \\\n",
    "                                              (df_label[\"volatility\"] <= volatility_percent50), \"Green\", \"Red\")\n",
    "            return df_label\n",
    "        except Exception as error:\n",
    "            print(error)\n",
    "            return None"
   ]
  },
  {
   "cell_type": "code",
   "execution_count": 24,
   "id": "865df783",
   "metadata": {},
   "outputs": [
    {
     "name": "stdout",
     "output_type": "stream",
     "text": [
      "Collecting tabulate\n",
      "  Downloading tabulate-0.8.10-py3-none-any.whl (29 kB)\n",
      "Installing collected packages: tabulate\n",
      "Successfully installed tabulate-0.8.10\n",
      "Note: you may need to restart the kernel to use updated packages.\n"
     ]
    }
   ],
   "source": [
    "pip install tabulate"
   ]
  },
  {
   "cell_type": "code",
   "execution_count": 25,
   "id": "b360176b",
   "metadata": {},
   "outputs": [],
   "source": [
    "from tabulate import tabulate"
   ]
  },
  {
   "cell_type": "code",
   "execution_count": 26,
   "id": "3c4c8b4e",
   "metadata": {},
   "outputs": [
    {
     "name": "stdout",
     "output_type": "stream",
     "text": [
      "Label Count for Year 2018\n",
      "True Label      Freq\n",
      "------------  ------\n",
      "Green             15\n",
      "Red               38\n",
      "\n",
      "Label Count for Year 2019\n",
      "True Label      Freq\n",
      "------------  ------\n",
      "Green             14\n",
      "Red               39\n",
      "\n"
     ]
    }
   ],
   "source": [
    "    try:\n",
    "        df_labeling = pd.DataFrame()\n",
    "        for year in [2018, 2019]:\n",
    "            df_year_label = weekly_label(df_weekly, year)\n",
    "            label_count = df_year_label.groupby(\"True Label\")[\"True Label\"].size().to_frame(name = \"Freq\")\n",
    "            print(\"Label Count for Year {0}\".format(year))\n",
    "            print(tabulate(label_count, headers = \"keys\", numalign = \"right\"), end = \"\\n\\n\")         \n",
    "            df_labeling = df_labeling.append(df_year_label, ignore_index = True)\n",
    "        df_labeling[\"Week_Number\"] = df_labeling[\"Week_Number\"].astype(int)\n",
    "    except Exception as e:\n",
    "        print(\"Error in weekly_label:\", end = \" \")\n",
    "        print(e)"
   ]
  },
  {
   "cell_type": "code",
   "execution_count": 27,
   "id": "a5e5e7b3",
   "metadata": {},
   "outputs": [],
   "source": [
    "    def Logistic_Reg(train_data, test_data, predictor):\n",
    "        # train the logistic regression model by stock data in year 1\n",
    "        train_X = train_data[predictor].values\n",
    "        scaler = StandardScaler().fit(train_X)\n",
    "        train_X = scaler.transform(train_X)\n",
    "        train_Y = train_data[\"True Label\"].values\n",
    "        classifier = LogisticRegression(solver = \"lbfgs\")\n",
    "        classifier.fit(train_X, train_Y)\n",
    "        \n",
    "        # predict the labels in year 2\n",
    "        test_X = test_data[predictor].values\n",
    "        test_X = scaler.transform(test_X)\n",
    "        pred_Y = classifier.predict(test_X)\n",
    "        return pred_Y"
   ]
  },
  {
   "cell_type": "code",
   "execution_count": 28,
   "id": "83d65673",
   "metadata": {},
   "outputs": [],
   "source": [
    "    def kNN(train_data, test_data, predictor, num_neighbors):\n",
    "        # train the kNN model by stock data in year 1\n",
    "        train_X = train_data[predictor].values  \n",
    "        scaler = StandardScaler().fit(train_X)\n",
    "        train_X = scaler.transform(train_X)\n",
    "        train_Y = train_data[\"True Label\"].values\n",
    "        classifier = KNeighborsClassifier(n_neighbors = num_neighbors, p = 2)\n",
    "        classifier.fit(train_X, train_Y)\n",
    "        \n",
    "        # predict the labels in year 2\n",
    "        test_X = test_data[predictor].values\n",
    "        test_X = scaler.transform(test_X)\n",
    "        pred_Y = classifier.predict(test_X)\n",
    "        return pred_Y"
   ]
  },
  {
   "cell_type": "code",
   "execution_count": 29,
   "id": "af1c28d4",
   "metadata": {},
   "outputs": [],
   "source": [
    "    def Linear_model(train_data, test_data, predictor):\n",
    "        # train the linear model by stock data in year 1\n",
    "        train_X = train_data[predictor].values\n",
    "        train_Y = train_data[\"Adj Close\"].values\n",
    "        lin_reg = LinearRegression(fit_intercept = True)\n",
    "        lin_reg.fit(train_X, train_Y)\n",
    "        \n",
    "        # predict the labels in year 2\n",
    "        predicted_labels = []\n",
    "        prev_label = \"None\"\n",
    "        for i in range(len(test_data)):\n",
    "            test_X = np.array(test_data.iloc[i][predictor]).reshape(1, -1)\n",
    "            pred_Y = lin_reg.predict(test_X)\n",
    "            if i == 0:\n",
    "                prev_price = train_data.iloc[-1][\"Adj Close\"]\n",
    "            else:\n",
    "                prev_price = test_data.iloc[i - 1][\"Adj Close\"]\n",
    "            if pred_Y > prev_price:\n",
    "                prev_label = \"Green\"\n",
    "                predicted_labels.append(prev_label)\n",
    "            elif pred_Y < prev_price:\n",
    "                prev_label = \"Red\"\n",
    "                predicted_labels.append(prev_label)\n",
    "            else:\n",
    "                if prev_label == \"None\":\n",
    "                    predicted_labels.append(train_data.iloc[-1][\"True Label\"])\n",
    "                else:\n",
    "                    predicted_labels.append(prev_label)\n",
    "        return np.asarray(predicted_labels)"
   ]
  },
  {
   "cell_type": "code",
   "execution_count": 30,
   "id": "7cb0b9c1",
   "metadata": {},
   "outputs": [],
   "source": [
    "    def AccuracyCal(actual, pred):\n",
    "        cm = confusion_matrix(actual, pred)\n",
    "        diagonal_sum = cm.trace()\n",
    "        sum_of_all_elements = cm.sum()\n",
    "        accuracy = diagonal_sum / sum_of_all_elements\n",
    "        return accuracy"
   ]
  },
  {
   "cell_type": "code",
   "execution_count": 33,
   "id": "9c378a4b",
   "metadata": {},
   "outputs": [
    {
     "name": "stdout",
     "output_type": "stream",
     "text": [
      "\n",
      " Q1 \n",
      "\n",
      "\n",
      "          Different Models' Accuracy with Different Predictors\n",
      "\n",
      "                Accuracy    Accuracy    Accuracy    Delta_1    Delta_2\n",
      "                             (w/o μ)     (w/o σ)    (w/o μ)    (w/o σ)\n",
      "------------  ----------  ----------  ----------  ---------  ---------\n",
      "Log. Reg           0.792       0.717       0.774      0.075      0.019\n",
      "k-NN               0.755       0.774       0.623     -0.019      0.132\n",
      "Linear Model       0.679       0.679       0.679          0          0\n",
      "\n"
     ]
    }
   ],
   "source": [
    "    print(\"\\n\"+ \" Q1 \" +\"\\n\")\n",
    "    try:\n",
    "        df_2018 = df_labeling.loc[df_labeling[\"Year\"] == 2018].copy().reset_index(drop = True)\n",
    "        df_2019 = df_labeling.loc[df_labeling[\"Year\"] == 2019].copy().reset_index(drop = True)\n",
    "        accuracy_table = pd.DataFrame(columns = [\"Accuracy\", \"Accuracy\\n(w/o μ)\", \"Accuracy\\n(w/o σ)\",\n",
    "                                                 \"Delta_1\\n(w/o μ)\", \"Delta_2\\n(w/o σ)\"],\n",
    "                                      index = [\"Log. Reg\", \"k-NN\", \"Linear Model\"])\n",
    "        actual_labels = df_2019[\"True Label\"].values\n",
    "        \n",
    "        # different models' accuracy with different predictors\n",
    "        predictor_list = [[\"mean_return\", \"volatility\"], [\"mean_return\"], [\"volatility\"]]\n",
    "        num_neighbors = 3\n",
    "        for i in range(len(predictor_list)):\n",
    "            features = predictor_list[i]\n",
    "            log_pred = Logistic_Reg(df_2018, df_2019, features)\n",
    "            kNN_pred = kNN(df_2018, df_2019, features, num_neighbors)\n",
    "            lin_pred = Linear_model(df_2018, df_2019, features)\n",
    "            pred_table = [log_pred, kNN_pred, lin_pred]\n",
    "            accuracy_list = []\n",
    "            for ele in pred_table:\n",
    "                accuracy_list.append(AccuracyCal(actual_labels, ele))\n",
    "            accuracy_table.iloc[:, i] = accuracy_list\n",
    "        accuracy_table[\"Delta_1\\n(w/o μ)\"] = accuracy_table[\"Accuracy\"] - accuracy_table[\"Accuracy\\n(w/o μ)\"]\n",
    "        accuracy_table[\"Delta_2\\n(w/o σ)\"] = accuracy_table[\"Accuracy\"] - accuracy_table[\"Accuracy\\n(w/o σ)\"]\n",
    "        \n",
    "        print(\"\\n\" + \" \" * 10 + \"Different Models\\' Accuracy with Different Predictors\\n\")\n",
    "        print(tabulate(accuracy_table.round(3), headers = \"keys\", numalign = \"right\"), end = \"\\n\\n\") \n",
    "        \n",
    "    \n",
    "    except Exception as e:\n",
    "        print(\"Error in Question 1:\", end = \" \")\n",
    "        print(e)\n",
    "    "
   ]
  }
 ],
 "metadata": {
  "kernelspec": {
   "display_name": "Python 3 (ipykernel)",
   "language": "python",
   "name": "python3"
  },
  "language_info": {
   "codemirror_mode": {
    "name": "ipython",
    "version": 3
   },
   "file_extension": ".py",
   "mimetype": "text/x-python",
   "name": "python",
   "nbconvert_exporter": "python",
   "pygments_lexer": "ipython3",
   "version": "3.9.7"
  }
 },
 "nbformat": 4,
 "nbformat_minor": 5
}
