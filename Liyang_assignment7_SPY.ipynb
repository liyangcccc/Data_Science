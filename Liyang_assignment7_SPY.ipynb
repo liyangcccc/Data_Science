{
 "cells": [
  {
   "cell_type": "code",
   "execution_count": 1,
   "id": "8baed1fb",
   "metadata": {},
   "outputs": [],
   "source": [
    "import pandas as pd\n",
    "import numpy as np\n",
    "import matplotlib.pyplot as plt\n",
    "import seaborn as sns\n",
    "from sklearn.ensemble import RandomForestClassifier\n",
    "from sklearn.preprocessing import StandardScaler\n",
    "from sklearn.metrics import confusion_matrix\n",
    "from sklearn.metrics import accuracy_score"
   ]
  },
  {
   "cell_type": "code",
   "execution_count": 2,
   "id": "f9745c21",
   "metadata": {},
   "outputs": [],
   "source": [
    "df = pd.read_csv(\"SPY.csv\")"
   ]
  },
  {
   "cell_type": "code",
   "execution_count": 3,
   "id": "e17a8e90",
   "metadata": {},
   "outputs": [],
   "source": [
    "df_grouped = df.groupby(['Year', 'Week_Number'])['Return'].agg([np.mean,np.std])\n",
    "df_grouped.reset_index(['Year', 'Week_Number'], inplace=True)\n",
    "df_grouped.rename(columns={'mean': 'mean_Return_μ','std':'std_Return_σ'}, inplace=True)"
   ]
  },
  {
   "cell_type": "code",
   "execution_count": 4,
   "id": "d74371ab",
   "metadata": {},
   "outputs": [],
   "source": [
    "def getWeeklyDifferences(df):\n",
    "    lastClosePrice = np.asarray(df.groupby([\"Year\", \"Week_Number\"]).last()[\"Close\"])\n",
    "    firstOpenPrice = np.asarray(df.groupby([\"Year\", \"Week_Number\"]).first()[\"Open\"])\n",
    "    return lastClosePrice - firstOpenPrice\n",
    "def getLabels(df):\n",
    "    weeklyDifferences = getWeeklyDifferences(df)\n",
    "    return [1 if x >= 0 else 0 for x in weeklyDifferences]"
   ]
  },
  {
   "cell_type": "code",
   "execution_count": 5,
   "id": "222b4cd3",
   "metadata": {},
   "outputs": [
    {
     "data": {
      "text/html": [
       "<div>\n",
       "<style scoped>\n",
       "    .dataframe tbody tr th:only-of-type {\n",
       "        vertical-align: middle;\n",
       "    }\n",
       "\n",
       "    .dataframe tbody tr th {\n",
       "        vertical-align: top;\n",
       "    }\n",
       "\n",
       "    .dataframe thead th {\n",
       "        text-align: right;\n",
       "    }\n",
       "</style>\n",
       "<table border=\"1\" class=\"dataframe\">\n",
       "  <thead>\n",
       "    <tr style=\"text-align: right;\">\n",
       "      <th></th>\n",
       "      <th>Year</th>\n",
       "      <th>Week_Number</th>\n",
       "      <th>mean_Return_μ</th>\n",
       "      <th>std_Return_σ</th>\n",
       "      <th>Weekly_Label</th>\n",
       "      <th>WeeklyDif</th>\n",
       "    </tr>\n",
       "  </thead>\n",
       "  <tbody>\n",
       "    <tr>\n",
       "      <th>0</th>\n",
       "      <td>2014</td>\n",
       "      <td>0</td>\n",
       "      <td>-0.000082</td>\n",
       "      <td>0.000116</td>\n",
       "      <td>0</td>\n",
       "      <td>-1.09</td>\n",
       "    </tr>\n",
       "    <tr>\n",
       "      <th>1</th>\n",
       "      <td>2014</td>\n",
       "      <td>1</td>\n",
       "      <td>0.001368</td>\n",
       "      <td>0.003341</td>\n",
       "      <td>1</td>\n",
       "      <td>0.65</td>\n",
       "    </tr>\n",
       "    <tr>\n",
       "      <th>2</th>\n",
       "      <td>2014</td>\n",
       "      <td>2</td>\n",
       "      <td>-0.000509</td>\n",
       "      <td>0.009262</td>\n",
       "      <td>0</td>\n",
       "      <td>-0.03</td>\n",
       "    </tr>\n",
       "    <tr>\n",
       "      <th>3</th>\n",
       "      <td>2014</td>\n",
       "      <td>3</td>\n",
       "      <td>-0.006484</td>\n",
       "      <td>0.011004</td>\n",
       "      <td>0</td>\n",
       "      <td>-5.81</td>\n",
       "    </tr>\n",
       "    <tr>\n",
       "      <th>4</th>\n",
       "      <td>2014</td>\n",
       "      <td>4</td>\n",
       "      <td>-0.000766</td>\n",
       "      <td>0.008598</td>\n",
       "      <td>0</td>\n",
       "      <td>-0.88</td>\n",
       "    </tr>\n",
       "    <tr>\n",
       "      <th>...</th>\n",
       "      <td>...</td>\n",
       "      <td>...</td>\n",
       "      <td>...</td>\n",
       "      <td>...</td>\n",
       "      <td>...</td>\n",
       "      <td>...</td>\n",
       "    </tr>\n",
       "    <tr>\n",
       "      <th>311</th>\n",
       "      <td>2019</td>\n",
       "      <td>48</td>\n",
       "      <td>0.000380</td>\n",
       "      <td>0.007765</td>\n",
       "      <td>1</td>\n",
       "      <td>0.28</td>\n",
       "    </tr>\n",
       "    <tr>\n",
       "      <th>312</th>\n",
       "      <td>2019</td>\n",
       "      <td>49</td>\n",
       "      <td>0.001560</td>\n",
       "      <td>0.004519</td>\n",
       "      <td>1</td>\n",
       "      <td>2.88</td>\n",
       "    </tr>\n",
       "    <tr>\n",
       "      <th>313</th>\n",
       "      <td>2019</td>\n",
       "      <td>50</td>\n",
       "      <td>0.003127</td>\n",
       "      <td>0.002932</td>\n",
       "      <td>1</td>\n",
       "      <td>1.51</td>\n",
       "    </tr>\n",
       "    <tr>\n",
       "      <th>314</th>\n",
       "      <td>2019</td>\n",
       "      <td>51</td>\n",
       "      <td>0.001659</td>\n",
       "      <td>0.002564</td>\n",
       "      <td>1</td>\n",
       "      <td>1.27</td>\n",
       "    </tr>\n",
       "    <tr>\n",
       "      <th>315</th>\n",
       "      <td>2019</td>\n",
       "      <td>52</td>\n",
       "      <td>-0.001542</td>\n",
       "      <td>0.005616</td>\n",
       "      <td>0</td>\n",
       "      <td>-1.09</td>\n",
       "    </tr>\n",
       "  </tbody>\n",
       "</table>\n",
       "<p>314 rows × 6 columns</p>\n",
       "</div>"
      ],
      "text/plain": [
       "     Year  Week_Number  mean_Return_μ  std_Return_σ  Weekly_Label  WeeklyDif\n",
       "0    2014            0      -0.000082      0.000116             0      -1.09\n",
       "1    2014            1       0.001368      0.003341             1       0.65\n",
       "2    2014            2      -0.000509      0.009262             0      -0.03\n",
       "3    2014            3      -0.006484      0.011004             0      -5.81\n",
       "4    2014            4      -0.000766      0.008598             0      -0.88\n",
       "..    ...          ...            ...           ...           ...        ...\n",
       "311  2019           48       0.000380      0.007765             1       0.28\n",
       "312  2019           49       0.001560      0.004519             1       2.88\n",
       "313  2019           50       0.003127      0.002932             1       1.51\n",
       "314  2019           51       0.001659      0.002564             1       1.27\n",
       "315  2019           52      -0.001542      0.005616             0      -1.09\n",
       "\n",
       "[314 rows x 6 columns]"
      ]
     },
     "execution_count": 5,
     "metadata": {},
     "output_type": "execute_result"
    }
   ],
   "source": [
    "df_grouped['Weekly_Label']=getLabels(df)\n",
    "df_grouped['WeeklyDif'] = getWeeklyDifferences(df)\n",
    "df_grouped.dropna(inplace=True)\n",
    "df_grouped"
   ]
  },
  {
   "cell_type": "code",
   "execution_count": 6,
   "id": "eeb1c099",
   "metadata": {},
   "outputs": [],
   "source": [
    "df_2017 = df_grouped[df_grouped.Year == 2017]\n",
    "df_2018 = df_grouped[df_grouped.Year == 2018]"
   ]
  },
  {
   "cell_type": "code",
   "execution_count": 7,
   "id": "7ada1fd4",
   "metadata": {},
   "outputs": [],
   "source": [
    "X_train, y_train = df_2017[['mean_Return_μ', 'std_Return_σ']], df_2017['Weekly_Label']\n",
    "X_test, y_test = df_2018[['mean_Return_μ', 'std_Return_σ']], df_2018['Weekly_Label']"
   ]
  },
  {
   "cell_type": "markdown",
   "id": "47018dab",
   "metadata": {},
   "source": [
    "## Random Forest"
   ]
  },
  {
   "cell_type": "code",
   "execution_count": 8,
   "id": "c0c2505b",
   "metadata": {},
   "outputs": [],
   "source": [
    "def RFModelErrorRate(train_data, test_data,feature,prediction, d, N):\n",
    "    \"\"\"\n",
    "    Build a randomforest model. Use train_data to train the classifier and predict the test_data.\n",
    "    N - number of (sub)trees to use \n",
    "    d - max depth of each subtree\n",
    "    \"\"\"\n",
    "    #train the random forest model by the stock data in year 1\n",
    "    X_train, y_train = train_data[feature].values , train_data[prediction].values\n",
    "    sc = StandardScaler()\n",
    "    X_train = sc.fit_transform(X_train)\n",
    "    rfc=RandomForestClassifier( max_depth=d,n_estimators= N ,random_state=1998)\n",
    "    rfc.fit(X_train,y_train)\n",
    "    \n",
    "    #predict the label in year 2\n",
    "    X_test, y_test = test_data[feature].values, test_data[prediction].values\n",
    "    X_test = sc.transform(X_test)\n",
    "    pred_Y = rfc.predict(X_test)\n",
    "    ACC = accuracy_score(y_test,pred_Y)\n",
    "    error_rate = 1 - ACC\n",
    "    return 1-ACC"
   ]
  },
  {
   "cell_type": "code",
   "execution_count": 9,
   "id": "aadebd45",
   "metadata": {},
   "outputs": [
    {
     "name": "stderr",
     "output_type": "stream",
     "text": [
      "D:\\TEMP/ipykernel_29036/781995735.py:12: DataConversionWarning: A column-vector y was passed when a 1d array was expected. Please change the shape of y to (n_samples,), for example using ravel().\n",
      "  rfc.fit(X_train,y_train)\n"
     ]
    },
    {
     "data": {
      "text/plain": [
       "0.09615384615384615"
      ]
     },
     "execution_count": 9,
     "metadata": {},
     "output_type": "execute_result"
    }
   ],
   "source": [
    "features = ['mean_Return_μ', 'std_Return_σ']\n",
    "label = ['Weekly_Label']\n",
    "RFModelErrorRate(df_2017, df_2018,features, label, 3,3)"
   ]
  },
  {
   "cell_type": "code",
   "execution_count": 10,
   "id": "3570c58c",
   "metadata": {},
   "outputs": [
    {
     "name": "stderr",
     "output_type": "stream",
     "text": [
      "D:\\TEMP/ipykernel_29036/781995735.py:12: DataConversionWarning: A column-vector y was passed when a 1d array was expected. Please change the shape of y to (n_samples,), for example using ravel().\n",
      "  rfc.fit(X_train,y_train)\n",
      "D:\\TEMP/ipykernel_29036/781995735.py:12: DataConversionWarning: A column-vector y was passed when a 1d array was expected. Please change the shape of y to (n_samples,), for example using ravel().\n",
      "  rfc.fit(X_train,y_train)\n",
      "D:\\TEMP/ipykernel_29036/781995735.py:12: DataConversionWarning: A column-vector y was passed when a 1d array was expected. Please change the shape of y to (n_samples,), for example using ravel().\n",
      "  rfc.fit(X_train,y_train)\n",
      "D:\\TEMP/ipykernel_29036/781995735.py:12: DataConversionWarning: A column-vector y was passed when a 1d array was expected. Please change the shape of y to (n_samples,), for example using ravel().\n",
      "  rfc.fit(X_train,y_train)\n",
      "D:\\TEMP/ipykernel_29036/781995735.py:12: DataConversionWarning: A column-vector y was passed when a 1d array was expected. Please change the shape of y to (n_samples,), for example using ravel().\n",
      "  rfc.fit(X_train,y_train)\n",
      "D:\\TEMP/ipykernel_29036/781995735.py:12: DataConversionWarning: A column-vector y was passed when a 1d array was expected. Please change the shape of y to (n_samples,), for example using ravel().\n",
      "  rfc.fit(X_train,y_train)\n",
      "D:\\TEMP/ipykernel_29036/781995735.py:12: DataConversionWarning: A column-vector y was passed when a 1d array was expected. Please change the shape of y to (n_samples,), for example using ravel().\n",
      "  rfc.fit(X_train,y_train)\n",
      "D:\\TEMP/ipykernel_29036/781995735.py:12: DataConversionWarning: A column-vector y was passed when a 1d array was expected. Please change the shape of y to (n_samples,), for example using ravel().\n",
      "  rfc.fit(X_train,y_train)\n",
      "D:\\TEMP/ipykernel_29036/781995735.py:12: DataConversionWarning: A column-vector y was passed when a 1d array was expected. Please change the shape of y to (n_samples,), for example using ravel().\n",
      "  rfc.fit(X_train,y_train)\n",
      "D:\\TEMP/ipykernel_29036/781995735.py:12: DataConversionWarning: A column-vector y was passed when a 1d array was expected. Please change the shape of y to (n_samples,), for example using ravel().\n",
      "  rfc.fit(X_train,y_train)\n",
      "D:\\TEMP/ipykernel_29036/781995735.py:12: DataConversionWarning: A column-vector y was passed when a 1d array was expected. Please change the shape of y to (n_samples,), for example using ravel().\n",
      "  rfc.fit(X_train,y_train)\n",
      "D:\\TEMP/ipykernel_29036/781995735.py:12: DataConversionWarning: A column-vector y was passed when a 1d array was expected. Please change the shape of y to (n_samples,), for example using ravel().\n",
      "  rfc.fit(X_train,y_train)\n",
      "D:\\TEMP/ipykernel_29036/781995735.py:12: DataConversionWarning: A column-vector y was passed when a 1d array was expected. Please change the shape of y to (n_samples,), for example using ravel().\n",
      "  rfc.fit(X_train,y_train)\n",
      "D:\\TEMP/ipykernel_29036/781995735.py:12: DataConversionWarning: A column-vector y was passed when a 1d array was expected. Please change the shape of y to (n_samples,), for example using ravel().\n",
      "  rfc.fit(X_train,y_train)\n",
      "D:\\TEMP/ipykernel_29036/781995735.py:12: DataConversionWarning: A column-vector y was passed when a 1d array was expected. Please change the shape of y to (n_samples,), for example using ravel().\n",
      "  rfc.fit(X_train,y_train)\n",
      "D:\\TEMP/ipykernel_29036/781995735.py:12: DataConversionWarning: A column-vector y was passed when a 1d array was expected. Please change the shape of y to (n_samples,), for example using ravel().\n",
      "  rfc.fit(X_train,y_train)\n",
      "D:\\TEMP/ipykernel_29036/781995735.py:12: DataConversionWarning: A column-vector y was passed when a 1d array was expected. Please change the shape of y to (n_samples,), for example using ravel().\n",
      "  rfc.fit(X_train,y_train)\n",
      "D:\\TEMP/ipykernel_29036/781995735.py:12: DataConversionWarning: A column-vector y was passed when a 1d array was expected. Please change the shape of y to (n_samples,), for example using ravel().\n",
      "  rfc.fit(X_train,y_train)\n",
      "D:\\TEMP/ipykernel_29036/781995735.py:12: DataConversionWarning: A column-vector y was passed when a 1d array was expected. Please change the shape of y to (n_samples,), for example using ravel().\n",
      "  rfc.fit(X_train,y_train)\n",
      "D:\\TEMP/ipykernel_29036/781995735.py:12: DataConversionWarning: A column-vector y was passed when a 1d array was expected. Please change the shape of y to (n_samples,), for example using ravel().\n",
      "  rfc.fit(X_train,y_train)\n",
      "D:\\TEMP/ipykernel_29036/781995735.py:12: DataConversionWarning: A column-vector y was passed when a 1d array was expected. Please change the shape of y to (n_samples,), for example using ravel().\n",
      "  rfc.fit(X_train,y_train)\n",
      "D:\\TEMP/ipykernel_29036/781995735.py:12: DataConversionWarning: A column-vector y was passed when a 1d array was expected. Please change the shape of y to (n_samples,), for example using ravel().\n",
      "  rfc.fit(X_train,y_train)\n",
      "D:\\TEMP/ipykernel_29036/781995735.py:12: DataConversionWarning: A column-vector y was passed when a 1d array was expected. Please change the shape of y to (n_samples,), for example using ravel().\n",
      "  rfc.fit(X_train,y_train)\n",
      "D:\\TEMP/ipykernel_29036/781995735.py:12: DataConversionWarning: A column-vector y was passed when a 1d array was expected. Please change the shape of y to (n_samples,), for example using ravel().\n",
      "  rfc.fit(X_train,y_train)\n",
      "D:\\TEMP/ipykernel_29036/781995735.py:12: DataConversionWarning: A column-vector y was passed when a 1d array was expected. Please change the shape of y to (n_samples,), for example using ravel().\n",
      "  rfc.fit(X_train,y_train)\n",
      "D:\\TEMP/ipykernel_29036/781995735.py:12: DataConversionWarning: A column-vector y was passed when a 1d array was expected. Please change the shape of y to (n_samples,), for example using ravel().\n",
      "  rfc.fit(X_train,y_train)\n",
      "D:\\TEMP/ipykernel_29036/781995735.py:12: DataConversionWarning: A column-vector y was passed when a 1d array was expected. Please change the shape of y to (n_samples,), for example using ravel().\n",
      "  rfc.fit(X_train,y_train)\n",
      "D:\\TEMP/ipykernel_29036/781995735.py:12: DataConversionWarning: A column-vector y was passed when a 1d array was expected. Please change the shape of y to (n_samples,), for example using ravel().\n",
      "  rfc.fit(X_train,y_train)\n",
      "D:\\TEMP/ipykernel_29036/781995735.py:12: DataConversionWarning: A column-vector y was passed when a 1d array was expected. Please change the shape of y to (n_samples,), for example using ravel().\n",
      "  rfc.fit(X_train,y_train)\n",
      "D:\\TEMP/ipykernel_29036/781995735.py:12: DataConversionWarning: A column-vector y was passed when a 1d array was expected. Please change the shape of y to (n_samples,), for example using ravel().\n",
      "  rfc.fit(X_train,y_train)\n",
      "D:\\TEMP/ipykernel_29036/781995735.py:12: DataConversionWarning: A column-vector y was passed when a 1d array was expected. Please change the shape of y to (n_samples,), for example using ravel().\n",
      "  rfc.fit(X_train,y_train)\n",
      "D:\\TEMP/ipykernel_29036/781995735.py:12: DataConversionWarning: A column-vector y was passed when a 1d array was expected. Please change the shape of y to (n_samples,), for example using ravel().\n",
      "  rfc.fit(X_train,y_train)\n",
      "D:\\TEMP/ipykernel_29036/781995735.py:12: DataConversionWarning: A column-vector y was passed when a 1d array was expected. Please change the shape of y to (n_samples,), for example using ravel().\n",
      "  rfc.fit(X_train,y_train)\n",
      "D:\\TEMP/ipykernel_29036/781995735.py:12: DataConversionWarning: A column-vector y was passed when a 1d array was expected. Please change the shape of y to (n_samples,), for example using ravel().\n",
      "  rfc.fit(X_train,y_train)\n",
      "D:\\TEMP/ipykernel_29036/781995735.py:12: DataConversionWarning: A column-vector y was passed when a 1d array was expected. Please change the shape of y to (n_samples,), for example using ravel().\n",
      "  rfc.fit(X_train,y_train)\n",
      "D:\\TEMP/ipykernel_29036/781995735.py:12: DataConversionWarning: A column-vector y was passed when a 1d array was expected. Please change the shape of y to (n_samples,), for example using ravel().\n",
      "  rfc.fit(X_train,y_train)\n",
      "D:\\TEMP/ipykernel_29036/781995735.py:12: DataConversionWarning: A column-vector y was passed when a 1d array was expected. Please change the shape of y to (n_samples,), for example using ravel().\n",
      "  rfc.fit(X_train,y_train)\n",
      "D:\\TEMP/ipykernel_29036/781995735.py:12: DataConversionWarning: A column-vector y was passed when a 1d array was expected. Please change the shape of y to (n_samples,), for example using ravel().\n",
      "  rfc.fit(X_train,y_train)\n",
      "D:\\TEMP/ipykernel_29036/781995735.py:12: DataConversionWarning: A column-vector y was passed when a 1d array was expected. Please change the shape of y to (n_samples,), for example using ravel().\n",
      "  rfc.fit(X_train,y_train)\n",
      "D:\\TEMP/ipykernel_29036/781995735.py:12: DataConversionWarning: A column-vector y was passed when a 1d array was expected. Please change the shape of y to (n_samples,), for example using ravel().\n",
      "  rfc.fit(X_train,y_train)\n",
      "D:\\TEMP/ipykernel_29036/781995735.py:12: DataConversionWarning: A column-vector y was passed when a 1d array was expected. Please change the shape of y to (n_samples,), for example using ravel().\n",
      "  rfc.fit(X_train,y_train)\n",
      "D:\\TEMP/ipykernel_29036/781995735.py:12: DataConversionWarning: A column-vector y was passed when a 1d array was expected. Please change the shape of y to (n_samples,), for example using ravel().\n",
      "  rfc.fit(X_train,y_train)\n",
      "D:\\TEMP/ipykernel_29036/781995735.py:12: DataConversionWarning: A column-vector y was passed when a 1d array was expected. Please change the shape of y to (n_samples,), for example using ravel().\n",
      "  rfc.fit(X_train,y_train)\n",
      "D:\\TEMP/ipykernel_29036/781995735.py:12: DataConversionWarning: A column-vector y was passed when a 1d array was expected. Please change the shape of y to (n_samples,), for example using ravel().\n",
      "  rfc.fit(X_train,y_train)\n",
      "D:\\TEMP/ipykernel_29036/781995735.py:12: DataConversionWarning: A column-vector y was passed when a 1d array was expected. Please change the shape of y to (n_samples,), for example using ravel().\n",
      "  rfc.fit(X_train,y_train)\n",
      "D:\\TEMP/ipykernel_29036/781995735.py:12: DataConversionWarning: A column-vector y was passed when a 1d array was expected. Please change the shape of y to (n_samples,), for example using ravel().\n",
      "  rfc.fit(X_train,y_train)\n",
      "D:\\TEMP/ipykernel_29036/781995735.py:12: DataConversionWarning: A column-vector y was passed when a 1d array was expected. Please change the shape of y to (n_samples,), for example using ravel().\n",
      "  rfc.fit(X_train,y_train)\n",
      "D:\\TEMP/ipykernel_29036/781995735.py:12: DataConversionWarning: A column-vector y was passed when a 1d array was expected. Please change the shape of y to (n_samples,), for example using ravel().\n",
      "  rfc.fit(X_train,y_train)\n",
      "D:\\TEMP/ipykernel_29036/781995735.py:12: DataConversionWarning: A column-vector y was passed when a 1d array was expected. Please change the shape of y to (n_samples,), for example using ravel().\n",
      "  rfc.fit(X_train,y_train)\n",
      "D:\\TEMP/ipykernel_29036/781995735.py:12: DataConversionWarning: A column-vector y was passed when a 1d array was expected. Please change the shape of y to (n_samples,), for example using ravel().\n",
      "  rfc.fit(X_train,y_train)\n"
     ]
    }
   ],
   "source": [
    "errors = {'-'.join([str(d), str(n)]): RFModelErrorRate(df_2017,df_2018, features, label, d, n)\n",
    "              for d in range(1, 6) for n in range(1, 11)}"
   ]
  },
  {
   "cell_type": "code",
   "execution_count": 11,
   "id": "f3ef32d4",
   "metadata": {},
   "outputs": [
    {
     "name": "stderr",
     "output_type": "stream",
     "text": [
      "D:\\ProgramData\\Anaconda3\\lib\\site-packages\\seaborn\\_decorators.py:36: FutureWarning: Pass the following variables as keyword args: x, y. From version 0.12, the only valid positional argument will be `data`, and passing other arguments without an explicit keyword will result in an error or misinterpretation.\n",
      "  warnings.warn(\n"
     ]
    },
    {
     "data": {
      "image/png": "[encoded data removed]",
      "text/plain": [
       "<Figure size 2160x720 with 1 Axes>"
      ]
     },
     "metadata": {
      "needs_background": "light"
     },
     "output_type": "display_data"
    }
   ],
   "source": [
    "plt.figure(figsize = (30,10))\n",
    "sns.lineplot(list(errors.keys()), list(errors.values()), marker='o')\n",
    "plt.xlabel('d-N value')\n",
    "plt.ylabel('Error Rate')\n",
    "plt.show()"
   ]
  },
  {
   "cell_type": "markdown",
   "id": "983ba8b1",
   "metadata": {},
   "source": [
    "#### Based on the error rate plot, we can choose d=1 and N=1 for the best model"
   ]
  },
  {
   "cell_type": "code",
   "execution_count": 28,
   "id": "c8dcbc88",
   "metadata": {},
   "outputs": [
    {
     "data": {
      "text/plain": [
       "array([[23,  2],\n",
       "       [ 2, 25]], dtype=int64)"
      ]
     },
     "execution_count": 28,
     "metadata": {},
     "output_type": "execute_result"
    }
   ],
   "source": [
    "#calculate the confusion matrix for the best model\n",
    "rf = RandomForestClassifier(max_depth=1, n_estimators=1).fit(X_train, y_train)\n",
    "prediction_rf = rf.predict(X_test)\n",
    "confusion_matrix(y_test, prediction_rf)"
   ]
  },
  {
   "cell_type": "code",
   "execution_count": 29,
   "id": "9ecb2b4f",
   "metadata": {},
   "outputs": [],
   "source": [
    "#TPR and TNR\n",
    "from sklearn.metrics import recall_score\n",
    "TPR = recall_score(y_test, prediction_rf)\n",
    "tn, fp, fn, tp = confusion_matrix(y_test, prediction_rf).ravel()\n",
    "TNR = tn / (tn + fp)"
   ]
  },
  {
   "cell_type": "code",
   "execution_count": 30,
   "id": "02a032e6",
   "metadata": {},
   "outputs": [
    {
     "data": {
      "text/plain": [
       "0.9259259259259259"
      ]
     },
     "execution_count": 30,
     "metadata": {},
     "output_type": "execute_result"
    }
   ],
   "source": [
    "TPR"
   ]
  },
  {
   "cell_type": "code",
   "execution_count": 31,
   "id": "53f6d4dc",
   "metadata": {},
   "outputs": [
    {
     "data": {
      "text/plain": [
       "0.92"
      ]
     },
     "execution_count": 31,
     "metadata": {},
     "output_type": "execute_result"
    }
   ],
   "source": [
    "TNR"
   ]
  },
  {
   "cell_type": "markdown",
   "id": "2f953a33",
   "metadata": {},
   "source": [
    "## RF trading strategy"
   ]
  },
  {
   "cell_type": "code",
   "execution_count": 32,
   "id": "e02c457d",
   "metadata": {},
   "outputs": [],
   "source": [
    "test = df[df.Year == 2017]\n",
    "weeklyDifferences = getWeeklyDifferences(test)\n",
    "weeklyOpens = test.groupby([\"Year\", \"Week_Number\"]).first().Open\n",
    "weeklyCloses = test.groupby([\"Year\", \"Week_Number\"]).last().Close\n",
    "\n",
    "percentGains = np.asarray((weeklyCloses - weeklyOpens) / weeklyOpens)\n",
    "dailyPercentGains = np.asarray((test.Close - test.Open)/test.Open)\n",
    "\n",
    "initialInvestment = 100\n",
    "buyAndHold = [initialInvestment]"
   ]
  },
  {
   "cell_type": "code",
   "execution_count": 33,
   "id": "d894d8a6",
   "metadata": {},
   "outputs": [],
   "source": [
    "#Buy and Hold\n",
    "#PercentGains are weekly so this will take of the weeks\n",
    "labels = list(range(len(percentGains) + 1))\n",
    "\n",
    "for pg in percentGains:\n",
    "    buyAndHold.append(buyAndHold[-1] * (1 + pg)) if pg >= 0 else buyAndHold.append(buyAndHold[-1] / (1 - pg) )    "
   ]
  },
  {
   "cell_type": "code",
   "execution_count": 34,
   "id": "6dcd6fe1",
   "metadata": {},
   "outputs": [],
   "source": [
    "#random forest portfolio\n",
    "rfPortfolio = [initialInvestment]\n",
    "\n",
    "for index  in range(len(prediction_rf)):\n",
    "    pg = percentGains[index]\n",
    "    if prediction_rf[index] == 1:\n",
    "        rfPortfolio.append(rfPortfolio[-1] * (1 + pg)) if pg >= 0 else rfPortfolio.append(buyAndHold[-1] / (1 - pg) )  \n",
    "    else:\n",
    "        rfPortfolio.append(rfPortfolio[-1])"
   ]
  },
  {
   "cell_type": "code",
   "execution_count": 35,
   "id": "2cb44b88",
   "metadata": {},
   "outputs": [
    {
     "data": {
      "text/plain": [
       "<matplotlib.legend.Legend at 0x122e599d5b0>"
      ]
     },
     "execution_count": 35,
     "metadata": {},
     "output_type": "execute_result"
    },
    {
     "data": {
      "image/png": "[encoded data removed]",
      "text/plain": [
       "<Figure size 432x288 with 1 Axes>"
      ]
     },
     "metadata": {
      "needs_background": "light"
     },
     "output_type": "display_data"
    }
   ],
   "source": [
    "plt.plot(labels, buyAndHold)\n",
    "plt.plot(labels, rfPortfolio, label = \"RandomForest\")\n",
    "plt.legend([\"buyAndHold\", \"RandomForest\"])"
   ]
  },
  {
   "cell_type": "markdown",
   "id": "46b4993d",
   "metadata": {},
   "source": [
    "randomForest classifier model performed better."
   ]
  },
  {
   "cell_type": "markdown",
   "id": "6bb627b5",
   "metadata": {},
   "source": [
    "## Desision Tree"
   ]
  },
  {
   "cell_type": "code",
   "execution_count": 20,
   "id": "d5c3432c",
   "metadata": {},
   "outputs": [],
   "source": [
    "#tree model\n",
    "from sklearn import tree\n",
    "clf = tree.DecisionTreeClassifier(criterion = 'entropy', max_features = 2).fit(X_train, y_train)\n",
    "prediction_yr2 = clf.predict(X_test)"
   ]
  },
  {
   "cell_type": "code",
   "execution_count": 21,
   "id": "f22f418b",
   "metadata": {},
   "outputs": [
    {
     "data": {
      "text/plain": [
       "0.9230769230769231"
      ]
     },
     "execution_count": 21,
     "metadata": {},
     "output_type": "execute_result"
    }
   ],
   "source": [
    "#accuracy\n",
    "accuracy_score(y_test, prediction_yr2)"
   ]
  },
  {
   "cell_type": "code",
   "execution_count": 22,
   "id": "4644fa48",
   "metadata": {},
   "outputs": [
    {
     "data": {
      "text/plain": [
       "array([[22,  3],\n",
       "       [ 1, 26]], dtype=int64)"
      ]
     },
     "execution_count": 22,
     "metadata": {},
     "output_type": "execute_result"
    }
   ],
   "source": [
    "#confusion matrix\n",
    "confusion_matrix(y_test, prediction_yr2)"
   ]
  },
  {
   "cell_type": "code",
   "execution_count": 23,
   "id": "35865311",
   "metadata": {},
   "outputs": [],
   "source": [
    "#TPR and TNR\n",
    "from sklearn.metrics import recall_score\n",
    "TPR = recall_score(y_test, prediction_yr2)\n",
    "tn, fp, fn, tp = confusion_matrix(y_test, prediction_yr2).ravel()\n",
    "TNR = tn / (tn + fp)"
   ]
  },
  {
   "cell_type": "code",
   "execution_count": 24,
   "id": "9f932e92",
   "metadata": {},
   "outputs": [
    {
     "data": {
      "text/plain": [
       "0.9629629629629629"
      ]
     },
     "execution_count": 24,
     "metadata": {},
     "output_type": "execute_result"
    }
   ],
   "source": [
    "TPR"
   ]
  },
  {
   "cell_type": "code",
   "execution_count": 25,
   "id": "a8dc407d",
   "metadata": {},
   "outputs": [
    {
     "data": {
      "text/plain": [
       "0.88"
      ]
     },
     "execution_count": 25,
     "metadata": {},
     "output_type": "execute_result"
    }
   ],
   "source": [
    "TNR"
   ]
  },
  {
   "cell_type": "code",
   "execution_count": 26,
   "id": "5ee5e44f",
   "metadata": {},
   "outputs": [],
   "source": [
    "#Decision tree portfolio\n",
    "treePortfolio = [initialInvestment]\n",
    "\n",
    "for index  in range(len(prediction_yr2)):\n",
    "    pg = percentGains[index]\n",
    "    if prediction_yr2[index] == 1:\n",
    "        treePortfolio.append(treePortfolio[-1] * (1 + pg)) if pg >= 0 else treePortfolio.append(buyAndHold[-1] / (1 - pg) )  \n",
    "    else:\n",
    "        treePortfolio.append(treePortfolio[-1])"
   ]
  },
  {
   "cell_type": "code",
   "execution_count": 27,
   "id": "85287a2c",
   "metadata": {},
   "outputs": [
    {
     "data": {
      "text/plain": [
       "<matplotlib.legend.Legend at 0x122e5934460>"
      ]
     },
     "execution_count": 27,
     "metadata": {},
     "output_type": "execute_result"
    },
    {
     "data": {
      "image/png": "[encoded data removed]",
      "text/plain": [
       "<Figure size 432x288 with 1 Axes>"
      ]
     },
     "metadata": {
      "needs_background": "light"
     },
     "output_type": "display_data"
    }
   ],
   "source": [
    "plt.plot(labels, buyAndHold)\n",
    "plt.plot(labels, treePortfolio, label = \"tree\")\n",
    "plt.legend([\"buyAndHold\", \"tree\"])"
   ]
  },
  {
   "cell_type": "markdown",
   "id": "1f609e49",
   "metadata": {},
   "source": [
    "the tree model performs better than buy-and-hold"
   ]
  }
 ],
 "metadata": {
  "kernelspec": {
   "display_name": "Python 3 (ipykernel)",
   "language": "python",
   "name": "python3"
  },
  "language_info": {
   "codemirror_mode": {
    "name": "ipython",
    "version": 3
   },
   "file_extension": ".py",
   "mimetype": "text/x-python",
   "name": "python",
   "nbconvert_exporter": "python",
   "pygments_lexer": "ipython3",
   "version": "3.9.7"
  }
 },
 "nbformat": 4,
 "nbformat_minor": 5
}
