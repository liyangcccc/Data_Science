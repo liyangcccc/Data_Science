{
 "cells": [
  {
   "cell_type": "code",
   "execution_count": 1,
   "id": "b7adf5d3",
   "metadata": {},
   "outputs": [],
   "source": [
    "import pandas as pd\n",
    "import numpy as np"
   ]
  },
  {
   "cell_type": "code",
   "execution_count": 2,
   "id": "2c6f7036",
   "metadata": {},
   "outputs": [
    {
     "data": {
      "text/html": [
       "<div>\n",
       "<style scoped>\n",
       "    .dataframe tbody tr th:only-of-type {\n",
       "        vertical-align: middle;\n",
       "    }\n",
       "\n",
       "    .dataframe tbody tr th {\n",
       "        vertical-align: top;\n",
       "    }\n",
       "\n",
       "    .dataframe thead th {\n",
       "        text-align: right;\n",
       "    }\n",
       "</style>\n",
       "<table border=\"1\" class=\"dataframe\">\n",
       "  <thead>\n",
       "    <tr style=\"text-align: right;\">\n",
       "      <th></th>\n",
       "      <th>Date</th>\n",
       "      <th>Year</th>\n",
       "      <th>Month</th>\n",
       "      <th>Day</th>\n",
       "      <th>Weekday</th>\n",
       "      <th>Week_Number</th>\n",
       "      <th>Year_Week</th>\n",
       "      <th>Open</th>\n",
       "      <th>High</th>\n",
       "      <th>Low</th>\n",
       "      <th>Close</th>\n",
       "      <th>Volume</th>\n",
       "      <th>Adj Close</th>\n",
       "      <th>Return</th>\n",
       "      <th>Short_MA</th>\n",
       "      <th>Long_MA</th>\n",
       "    </tr>\n",
       "  </thead>\n",
       "  <tbody>\n",
       "    <tr>\n",
       "      <th>0</th>\n",
       "      <td>2014-01-02</td>\n",
       "      <td>2014</td>\n",
       "      <td>1</td>\n",
       "      <td>2</td>\n",
       "      <td>&lt;bound method PandasDelegate._add_delegate_acc...</td>\n",
       "      <td>0</td>\n",
       "      <td>2014-00</td>\n",
       "      <td>35.89</td>\n",
       "      <td>35.97</td>\n",
       "      <td>35.67</td>\n",
       "      <td>35.97</td>\n",
       "      <td>138600.0</td>\n",
       "      <td>27.41</td>\n",
       "      <td>0.000000</td>\n",
       "      <td>27.410000</td>\n",
       "      <td>27.4100</td>\n",
       "    </tr>\n",
       "    <tr>\n",
       "      <th>1</th>\n",
       "      <td>2014-01-03</td>\n",
       "      <td>2014</td>\n",
       "      <td>1</td>\n",
       "      <td>3</td>\n",
       "      <td>&lt;bound method PandasDelegate._add_delegate_acc...</td>\n",
       "      <td>0</td>\n",
       "      <td>2014-00</td>\n",
       "      <td>35.77</td>\n",
       "      <td>35.77</td>\n",
       "      <td>35.56</td>\n",
       "      <td>35.57</td>\n",
       "      <td>89900.0</td>\n",
       "      <td>27.11</td>\n",
       "      <td>-0.011120</td>\n",
       "      <td>27.260000</td>\n",
       "      <td>27.2600</td>\n",
       "    </tr>\n",
       "    <tr>\n",
       "      <th>2</th>\n",
       "      <td>2014-01-06</td>\n",
       "      <td>2014</td>\n",
       "      <td>1</td>\n",
       "      <td>6</td>\n",
       "      <td>&lt;bound method PandasDelegate._add_delegate_acc...</td>\n",
       "      <td>1</td>\n",
       "      <td>2014-01</td>\n",
       "      <td>35.20</td>\n",
       "      <td>35.20</td>\n",
       "      <td>34.94</td>\n",
       "      <td>35.10</td>\n",
       "      <td>82200.0</td>\n",
       "      <td>26.75</td>\n",
       "      <td>-0.013213</td>\n",
       "      <td>27.090000</td>\n",
       "      <td>27.0900</td>\n",
       "    </tr>\n",
       "    <tr>\n",
       "      <th>3</th>\n",
       "      <td>2014-01-07</td>\n",
       "      <td>2014</td>\n",
       "      <td>1</td>\n",
       "      <td>7</td>\n",
       "      <td>&lt;bound method PandasDelegate._add_delegate_acc...</td>\n",
       "      <td>1</td>\n",
       "      <td>2014-01</td>\n",
       "      <td>34.77</td>\n",
       "      <td>34.80</td>\n",
       "      <td>34.54</td>\n",
       "      <td>34.75</td>\n",
       "      <td>75800.0</td>\n",
       "      <td>26.48</td>\n",
       "      <td>-0.009972</td>\n",
       "      <td>26.937500</td>\n",
       "      <td>26.9375</td>\n",
       "    </tr>\n",
       "    <tr>\n",
       "      <th>4</th>\n",
       "      <td>2014-01-08</td>\n",
       "      <td>2014</td>\n",
       "      <td>1</td>\n",
       "      <td>8</td>\n",
       "      <td>&lt;bound method PandasDelegate._add_delegate_acc...</td>\n",
       "      <td>1</td>\n",
       "      <td>2014-01</td>\n",
       "      <td>34.32</td>\n",
       "      <td>34.35</td>\n",
       "      <td>34.10</td>\n",
       "      <td>34.18</td>\n",
       "      <td>104500.0</td>\n",
       "      <td>26.05</td>\n",
       "      <td>-0.016403</td>\n",
       "      <td>26.760000</td>\n",
       "      <td>26.7600</td>\n",
       "    </tr>\n",
       "    <tr>\n",
       "      <th>...</th>\n",
       "      <td>...</td>\n",
       "      <td>...</td>\n",
       "      <td>...</td>\n",
       "      <td>...</td>\n",
       "      <td>...</td>\n",
       "      <td>...</td>\n",
       "      <td>...</td>\n",
       "      <td>...</td>\n",
       "      <td>...</td>\n",
       "      <td>...</td>\n",
       "      <td>...</td>\n",
       "      <td>...</td>\n",
       "      <td>...</td>\n",
       "      <td>...</td>\n",
       "      <td>...</td>\n",
       "      <td>...</td>\n",
       "    </tr>\n",
       "    <tr>\n",
       "      <th>1505</th>\n",
       "      <td>2019-12-24</td>\n",
       "      <td>2019</td>\n",
       "      <td>12</td>\n",
       "      <td>24</td>\n",
       "      <td>&lt;bound method PandasDelegate._add_delegate_acc...</td>\n",
       "      <td>51</td>\n",
       "      <td>2019-51</td>\n",
       "      <td>91.90</td>\n",
       "      <td>91.90</td>\n",
       "      <td>91.47</td>\n",
       "      <td>91.53</td>\n",
       "      <td>51600.0</td>\n",
       "      <td>87.42</td>\n",
       "      <td>-0.002072</td>\n",
       "      <td>85.540714</td>\n",
       "      <td>83.5206</td>\n",
       "    </tr>\n",
       "    <tr>\n",
       "      <th>1506</th>\n",
       "      <td>2019-12-26</td>\n",
       "      <td>2019</td>\n",
       "      <td>12</td>\n",
       "      <td>26</td>\n",
       "      <td>&lt;bound method PandasDelegate._add_delegate_acc...</td>\n",
       "      <td>51</td>\n",
       "      <td>2019-51</td>\n",
       "      <td>92.06</td>\n",
       "      <td>92.73</td>\n",
       "      <td>91.54</td>\n",
       "      <td>92.26</td>\n",
       "      <td>57600.0</td>\n",
       "      <td>88.12</td>\n",
       "      <td>0.007976</td>\n",
       "      <td>85.825000</td>\n",
       "      <td>83.6842</td>\n",
       "    </tr>\n",
       "    <tr>\n",
       "      <th>1507</th>\n",
       "      <td>2019-12-27</td>\n",
       "      <td>2019</td>\n",
       "      <td>12</td>\n",
       "      <td>27</td>\n",
       "      <td>&lt;bound method PandasDelegate._add_delegate_acc...</td>\n",
       "      <td>51</td>\n",
       "      <td>2019-51</td>\n",
       "      <td>93.12</td>\n",
       "      <td>93.59</td>\n",
       "      <td>93.02</td>\n",
       "      <td>93.31</td>\n",
       "      <td>99300.0</td>\n",
       "      <td>89.12</td>\n",
       "      <td>0.011381</td>\n",
       "      <td>86.146429</td>\n",
       "      <td>83.8778</td>\n",
       "    </tr>\n",
       "    <tr>\n",
       "      <th>1508</th>\n",
       "      <td>2019-12-30</td>\n",
       "      <td>2019</td>\n",
       "      <td>12</td>\n",
       "      <td>30</td>\n",
       "      <td>&lt;bound method PandasDelegate._add_delegate_acc...</td>\n",
       "      <td>52</td>\n",
       "      <td>2019-52</td>\n",
       "      <td>93.40</td>\n",
       "      <td>93.40</td>\n",
       "      <td>92.74</td>\n",
       "      <td>93.07</td>\n",
       "      <td>59500.0</td>\n",
       "      <td>88.89</td>\n",
       "      <td>-0.002572</td>\n",
       "      <td>86.490714</td>\n",
       "      <td>84.0656</td>\n",
       "    </tr>\n",
       "    <tr>\n",
       "      <th>1509</th>\n",
       "      <td>2019-12-31</td>\n",
       "      <td>2019</td>\n",
       "      <td>12</td>\n",
       "      <td>31</td>\n",
       "      <td>&lt;bound method PandasDelegate._add_delegate_acc...</td>\n",
       "      <td>52</td>\n",
       "      <td>2019-52</td>\n",
       "      <td>93.15</td>\n",
       "      <td>93.27</td>\n",
       "      <td>92.37</td>\n",
       "      <td>93.27</td>\n",
       "      <td>55000.0</td>\n",
       "      <td>89.08</td>\n",
       "      <td>0.002149</td>\n",
       "      <td>86.851429</td>\n",
       "      <td>84.2610</td>\n",
       "    </tr>\n",
       "  </tbody>\n",
       "</table>\n",
       "<p>1510 rows × 16 columns</p>\n",
       "</div>"
      ],
      "text/plain": [
       "            Date  Year  Month  Day  \\\n",
       "0     2014-01-02  2014      1    2   \n",
       "1     2014-01-03  2014      1    3   \n",
       "2     2014-01-06  2014      1    6   \n",
       "3     2014-01-07  2014      1    7   \n",
       "4     2014-01-08  2014      1    8   \n",
       "...          ...   ...    ...  ...   \n",
       "1505  2019-12-24  2019     12   24   \n",
       "1506  2019-12-26  2019     12   26   \n",
       "1507  2019-12-27  2019     12   27   \n",
       "1508  2019-12-30  2019     12   30   \n",
       "1509  2019-12-31  2019     12   31   \n",
       "\n",
       "                                                Weekday  Week_Number  \\\n",
       "0     <bound method PandasDelegate._add_delegate_acc...            0   \n",
       "1     <bound method PandasDelegate._add_delegate_acc...            0   \n",
       "2     <bound method PandasDelegate._add_delegate_acc...            1   \n",
       "3     <bound method PandasDelegate._add_delegate_acc...            1   \n",
       "4     <bound method PandasDelegate._add_delegate_acc...            1   \n",
       "...                                                 ...          ...   \n",
       "1505  <bound method PandasDelegate._add_delegate_acc...           51   \n",
       "1506  <bound method PandasDelegate._add_delegate_acc...           51   \n",
       "1507  <bound method PandasDelegate._add_delegate_acc...           51   \n",
       "1508  <bound method PandasDelegate._add_delegate_acc...           52   \n",
       "1509  <bound method PandasDelegate._add_delegate_acc...           52   \n",
       "\n",
       "     Year_Week   Open   High    Low  Close    Volume  Adj Close    Return  \\\n",
       "0      2014-00  35.89  35.97  35.67  35.97  138600.0      27.41  0.000000   \n",
       "1      2014-00  35.77  35.77  35.56  35.57   89900.0      27.11 -0.011120   \n",
       "2      2014-01  35.20  35.20  34.94  35.10   82200.0      26.75 -0.013213   \n",
       "3      2014-01  34.77  34.80  34.54  34.75   75800.0      26.48 -0.009972   \n",
       "4      2014-01  34.32  34.35  34.10  34.18  104500.0      26.05 -0.016403   \n",
       "...        ...    ...    ...    ...    ...       ...        ...       ...   \n",
       "1505   2019-51  91.90  91.90  91.47  91.53   51600.0      87.42 -0.002072   \n",
       "1506   2019-51  92.06  92.73  91.54  92.26   57600.0      88.12  0.007976   \n",
       "1507   2019-51  93.12  93.59  93.02  93.31   99300.0      89.12  0.011381   \n",
       "1508   2019-52  93.40  93.40  92.74  93.07   59500.0      88.89 -0.002572   \n",
       "1509   2019-52  93.15  93.27  92.37  93.27   55000.0      89.08  0.002149   \n",
       "\n",
       "       Short_MA  Long_MA  \n",
       "0     27.410000  27.4100  \n",
       "1     27.260000  27.2600  \n",
       "2     27.090000  27.0900  \n",
       "3     26.937500  26.9375  \n",
       "4     26.760000  26.7600  \n",
       "...         ...      ...  \n",
       "1505  85.540714  83.5206  \n",
       "1506  85.825000  83.6842  \n",
       "1507  86.146429  83.8778  \n",
       "1508  86.490714  84.0656  \n",
       "1509  86.851429  84.2610  \n",
       "\n",
       "[1510 rows x 16 columns]"
      ]
     },
     "execution_count": 2,
     "metadata": {},
     "output_type": "execute_result"
    }
   ],
   "source": [
    "df = pd.read_csv(\"LVMUY.csv\")\n",
    "df"
   ]
  },
  {
   "cell_type": "code",
   "execution_count": 3,
   "id": "61bda868",
   "metadata": {},
   "outputs": [],
   "source": [
    "df_grouped = df.groupby(['Year', 'Week_Number'])['Return'].agg([np.mean,np.std])\n",
    "df_grouped.reset_index(['Year', 'Week_Number'], inplace=True)\n",
    "df_grouped.rename(columns={'mean': 'mean_Return_μ','std':'std_Return_σ'}, inplace=True)"
   ]
  },
  {
   "cell_type": "code",
   "execution_count": 4,
   "id": "00858834",
   "metadata": {},
   "outputs": [],
   "source": [
    "def getWeeklyDifferences(df):\n",
    "    lastClosePrice = np.asarray(df.groupby([\"Year\", \"Week_Number\"]).last()[\"Close\"])\n",
    "    firstOpenPrice = np.asarray(df.groupby([\"Year\", \"Week_Number\"]).first()[\"Open\"])\n",
    "    return lastClosePrice - firstOpenPrice\n",
    "def getLabels(df):\n",
    "    weeklyDifferences = getWeeklyDifferences(df)\n",
    "    return [1 if x >= 0 else 0 for x in weeklyDifferences]"
   ]
  },
  {
   "cell_type": "code",
   "execution_count": 5,
   "id": "8b5c398f",
   "metadata": {},
   "outputs": [
    {
     "data": {
      "text/html": [
       "<div>\n",
       "<style scoped>\n",
       "    .dataframe tbody tr th:only-of-type {\n",
       "        vertical-align: middle;\n",
       "    }\n",
       "\n",
       "    .dataframe tbody tr th {\n",
       "        vertical-align: top;\n",
       "    }\n",
       "\n",
       "    .dataframe thead th {\n",
       "        text-align: right;\n",
       "    }\n",
       "</style>\n",
       "<table border=\"1\" class=\"dataframe\">\n",
       "  <thead>\n",
       "    <tr style=\"text-align: right;\">\n",
       "      <th></th>\n",
       "      <th>Year</th>\n",
       "      <th>Week_Number</th>\n",
       "      <th>mean_Return_μ</th>\n",
       "      <th>std_Return_σ</th>\n",
       "      <th>Weekly_Label</th>\n",
       "      <th>WeeklyDif</th>\n",
       "    </tr>\n",
       "  </thead>\n",
       "  <tbody>\n",
       "    <tr>\n",
       "      <th>0</th>\n",
       "      <td>2014</td>\n",
       "      <td>0</td>\n",
       "      <td>-0.005560</td>\n",
       "      <td>0.007863</td>\n",
       "      <td>0</td>\n",
       "      <td>-0.32</td>\n",
       "    </tr>\n",
       "    <tr>\n",
       "      <th>1</th>\n",
       "      <td>2014</td>\n",
       "      <td>1</td>\n",
       "      <td>-0.006661</td>\n",
       "      <td>0.017478</td>\n",
       "      <td>0</td>\n",
       "      <td>-0.82</td>\n",
       "    </tr>\n",
       "    <tr>\n",
       "      <th>2</th>\n",
       "      <td>2014</td>\n",
       "      <td>2</td>\n",
       "      <td>-0.000721</td>\n",
       "      <td>0.009552</td>\n",
       "      <td>0</td>\n",
       "      <td>-0.12</td>\n",
       "    </tr>\n",
       "    <tr>\n",
       "      <th>3</th>\n",
       "      <td>2014</td>\n",
       "      <td>3</td>\n",
       "      <td>-0.002957</td>\n",
       "      <td>0.018201</td>\n",
       "      <td>0</td>\n",
       "      <td>-1.31</td>\n",
       "    </tr>\n",
       "    <tr>\n",
       "      <th>4</th>\n",
       "      <td>2014</td>\n",
       "      <td>4</td>\n",
       "      <td>0.010164</td>\n",
       "      <td>0.022332</td>\n",
       "      <td>1</td>\n",
       "      <td>1.80</td>\n",
       "    </tr>\n",
       "    <tr>\n",
       "      <th>...</th>\n",
       "      <td>...</td>\n",
       "      <td>...</td>\n",
       "      <td>...</td>\n",
       "      <td>...</td>\n",
       "      <td>...</td>\n",
       "      <td>...</td>\n",
       "    </tr>\n",
       "    <tr>\n",
       "      <th>311</th>\n",
       "      <td>2019</td>\n",
       "      <td>48</td>\n",
       "      <td>-0.000431</td>\n",
       "      <td>0.012718</td>\n",
       "      <td>0</td>\n",
       "      <td>-0.54</td>\n",
       "    </tr>\n",
       "    <tr>\n",
       "      <th>312</th>\n",
       "      <td>2019</td>\n",
       "      <td>49</td>\n",
       "      <td>0.002777</td>\n",
       "      <td>0.006309</td>\n",
       "      <td>1</td>\n",
       "      <td>1.36</td>\n",
       "    </tr>\n",
       "    <tr>\n",
       "      <th>313</th>\n",
       "      <td>2019</td>\n",
       "      <td>50</td>\n",
       "      <td>0.002657</td>\n",
       "      <td>0.012763</td>\n",
       "      <td>0</td>\n",
       "      <td>-0.49</td>\n",
       "    </tr>\n",
       "    <tr>\n",
       "      <th>314</th>\n",
       "      <td>2019</td>\n",
       "      <td>51</td>\n",
       "      <td>0.006299</td>\n",
       "      <td>0.005811</td>\n",
       "      <td>1</td>\n",
       "      <td>1.81</td>\n",
       "    </tr>\n",
       "    <tr>\n",
       "      <th>315</th>\n",
       "      <td>2019</td>\n",
       "      <td>52</td>\n",
       "      <td>-0.000212</td>\n",
       "      <td>0.003338</td>\n",
       "      <td>0</td>\n",
       "      <td>-0.13</td>\n",
       "    </tr>\n",
       "  </tbody>\n",
       "</table>\n",
       "<p>314 rows × 6 columns</p>\n",
       "</div>"
      ],
      "text/plain": [
       "     Year  Week_Number  mean_Return_μ  std_Return_σ  Weekly_Label  WeeklyDif\n",
       "0    2014            0      -0.005560      0.007863             0      -0.32\n",
       "1    2014            1      -0.006661      0.017478             0      -0.82\n",
       "2    2014            2      -0.000721      0.009552             0      -0.12\n",
       "3    2014            3      -0.002957      0.018201             0      -1.31\n",
       "4    2014            4       0.010164      0.022332             1       1.80\n",
       "..    ...          ...            ...           ...           ...        ...\n",
       "311  2019           48      -0.000431      0.012718             0      -0.54\n",
       "312  2019           49       0.002777      0.006309             1       1.36\n",
       "313  2019           50       0.002657      0.012763             0      -0.49\n",
       "314  2019           51       0.006299      0.005811             1       1.81\n",
       "315  2019           52      -0.000212      0.003338             0      -0.13\n",
       "\n",
       "[314 rows x 6 columns]"
      ]
     },
     "execution_count": 5,
     "metadata": {},
     "output_type": "execute_result"
    }
   ],
   "source": [
    "df_grouped['Weekly_Label']=getLabels(df)\n",
    "df_grouped['WeeklyDif'] = getWeeklyDifferences(df)\n",
    "df_grouped.dropna(inplace=True)\n",
    "df_grouped"
   ]
  },
  {
   "cell_type": "code",
   "execution_count": 6,
   "id": "1e98894b",
   "metadata": {},
   "outputs": [],
   "source": [
    "df_train = df_grouped[df_grouped.Year == 2015]\n",
    "df_pre = df_grouped[df_grouped.Year == 2016]"
   ]
  },
  {
   "cell_type": "code",
   "execution_count": 7,
   "id": "dfd75050",
   "metadata": {},
   "outputs": [],
   "source": [
    "from sklearn.discriminant_analysis import LinearDiscriminantAnalysis as LDA\n",
    "from sklearn.discriminant_analysis import QuadraticDiscriminantAnalysis as QDA\n",
    "\n",
    "X_train, y_train = df_train[['mean_Return_μ', 'std_Return_σ']], df_train['Weekly_Label']\n",
    "X_test, y_test = df_pre[['mean_Return_μ', 'std_Return_σ']], df_pre['Weekly_Label']\n",
    "\n",
    "from sklearn.preprocessing import StandardScaler\n",
    "#scale the data\n",
    "sc = StandardScaler()\n",
    "X_train = sc.fit_transform(X_train)\n",
    "X_test = sc.transform(X_test)"
   ]
  },
  {
   "cell_type": "markdown",
   "id": "19ecc604",
   "metadata": {},
   "source": [
    "### LDA"
   ]
  },
  {
   "cell_type": "code",
   "execution_count": 8,
   "id": "8a277ef2",
   "metadata": {},
   "outputs": [
    {
     "data": {
      "text/plain": [
       "LinearDiscriminantAnalysis()"
      ]
     },
     "execution_count": 8,
     "metadata": {},
     "output_type": "execute_result"
    }
   ],
   "source": [
    "lda = LDA()\n",
    "lda.fit(X_train,y_train)"
   ]
  },
  {
   "cell_type": "code",
   "execution_count": 9,
   "id": "f23eb4b8",
   "metadata": {},
   "outputs": [
    {
     "data": {
      "text/plain": [
       "array([[2.38244519, 0.02483444]])"
      ]
     },
     "execution_count": 9,
     "metadata": {},
     "output_type": "execute_result"
    }
   ],
   "source": [
    "#Question1 equation\n",
    "lda.coef_"
   ]
  },
  {
   "cell_type": "code",
   "execution_count": 10,
   "id": "577dc799",
   "metadata": {},
   "outputs": [
    {
     "data": {
      "text/plain": [
       "array([0.13874406])"
      ]
     },
     "execution_count": 10,
     "metadata": {},
     "output_type": "execute_result"
    }
   ],
   "source": [
    "lda.intercept_"
   ]
  },
  {
   "cell_type": "code",
   "execution_count": 11,
   "id": "392ee837",
   "metadata": {},
   "outputs": [],
   "source": [
    "from sklearn.metrics import accuracy_score\n",
    "predict_lda = lda.predict(X_test)"
   ]
  },
  {
   "cell_type": "code",
   "execution_count": 12,
   "id": "e56e0cb6",
   "metadata": {},
   "outputs": [
    {
     "data": {
      "text/plain": [
       "array([[22,  1],\n",
       "       [ 1, 28]], dtype=int64)"
      ]
     },
     "execution_count": 12,
     "metadata": {},
     "output_type": "execute_result"
    }
   ],
   "source": [
    "from sklearn.metrics import confusion_matrix\n",
    "from sklearn import metrics\n",
    "confusion_matrix(y_test, predict_lda)"
   ]
  },
  {
   "cell_type": "code",
   "execution_count": 13,
   "id": "ba7d5933",
   "metadata": {},
   "outputs": [
    {
     "name": "stdout",
     "output_type": "stream",
     "text": [
      "              precision    recall  f1-score   support\n",
      "\n",
      "           0       0.96      0.96      0.96        23\n",
      "           1       0.97      0.97      0.97        29\n",
      "\n",
      "    accuracy                           0.96        52\n",
      "   macro avg       0.96      0.96      0.96        52\n",
      "weighted avg       0.96      0.96      0.96        52\n",
      "\n"
     ]
    }
   ],
   "source": [
    "print(metrics.classification_report(y_test, predict_lda))"
   ]
  },
  {
   "cell_type": "markdown",
   "id": "394cf6d0",
   "metadata": {},
   "source": [
    "accuracy: 0.96 sencitive rate: 0.97 specificity rate: 0.96"
   ]
  },
  {
   "cell_type": "markdown",
   "id": "602b4e80",
   "metadata": {},
   "source": [
    "### QDA"
   ]
  },
  {
   "cell_type": "code",
   "execution_count": 14,
   "id": "63dc1684",
   "metadata": {},
   "outputs": [
    {
     "data": {
      "text/plain": [
       "QuadraticDiscriminantAnalysis()"
      ]
     },
     "execution_count": 14,
     "metadata": {},
     "output_type": "execute_result"
    }
   ],
   "source": [
    "from sklearn.discriminant_analysis import QuadraticDiscriminantAnalysis as QDA\n",
    "qda = QDA()\n",
    "qda.fit(X_train, y_train)"
   ]
  },
  {
   "cell_type": "code",
   "execution_count": 15,
   "id": "c38aae4c",
   "metadata": {},
   "outputs": [],
   "source": [
    "predict_qda = qda.predict(X_test)"
   ]
  },
  {
   "cell_type": "code",
   "execution_count": 16,
   "id": "deb2ce84",
   "metadata": {},
   "outputs": [
    {
     "data": {
      "text/plain": [
       "array([[18,  5],\n",
       "       [ 4, 25]], dtype=int64)"
      ]
     },
     "execution_count": 16,
     "metadata": {},
     "output_type": "execute_result"
    }
   ],
   "source": [
    "confusion_matrix(y_test,predict_qda)"
   ]
  },
  {
   "cell_type": "code",
   "execution_count": 17,
   "id": "8ad366ab",
   "metadata": {},
   "outputs": [
    {
     "name": "stdout",
     "output_type": "stream",
     "text": [
      "              precision    recall  f1-score   support\n",
      "\n",
      "           0       0.82      0.78      0.80        23\n",
      "           1       0.83      0.86      0.85        29\n",
      "\n",
      "    accuracy                           0.83        52\n",
      "   macro avg       0.83      0.82      0.82        52\n",
      "weighted avg       0.83      0.83      0.83        52\n",
      "\n"
     ]
    }
   ],
   "source": [
    "print(metrics.classification_report(y_test, predict_qda))"
   ]
  },
  {
   "cell_type": "markdown",
   "id": "672393f5",
   "metadata": {},
   "source": [
    "accuracy: 0.83   sensitive rate: 0.86  specificity rate: 0.78"
   ]
  },
  {
   "cell_type": "markdown",
   "id": "bd99e1a6",
   "metadata": {},
   "source": [
    "### trading strategy"
   ]
  },
  {
   "cell_type": "code",
   "execution_count": 18,
   "id": "f5088722",
   "metadata": {},
   "outputs": [],
   "source": [
    "test = df[df.Year == 2016]\n",
    "weeklyDifferences = getWeeklyDifferences(test)\n",
    "weeklyOpens = test.groupby([\"Year\", \"Week_Number\"]).first().Open\n",
    "weeklyCloses = test.groupby([\"Year\", \"Week_Number\"]).last().Close\n",
    "\n",
    "percentGains = np.asarray((weeklyCloses - weeklyOpens) / weeklyOpens)\n",
    "dailyPercentGains = np.asarray((test.Close - test.Open)/test.Open)\n",
    "\n",
    "initialInvestment = 100\n",
    "buyAndHold = [initialInvestment]"
   ]
  },
  {
   "cell_type": "code",
   "execution_count": 19,
   "id": "9c8b64f1",
   "metadata": {},
   "outputs": [],
   "source": [
    "#Buy and Hold\n",
    "#PercentGains are weekly so this will take of the weeks\n",
    "labels = list(range(len(percentGains) + 1))\n",
    "\n",
    "for pg in percentGains:\n",
    "    buyAndHold.append(buyAndHold[-1] * (1 + pg)) if pg >= 0 else buyAndHold.append(buyAndHold[-1] / (1 - pg) )    "
   ]
  },
  {
   "cell_type": "code",
   "execution_count": 20,
   "id": "16b595a9",
   "metadata": {},
   "outputs": [],
   "source": [
    "#lda portfolio\n",
    "ldaPortfolio = [initialInvestment]\n",
    "\n",
    "for index  in range(len(predict_lda)):\n",
    "    pg = percentGains[index]\n",
    "    if predict_lda[index] == 1:\n",
    "        ldaPortfolio.append(ldaPortfolio[-1] * (1 + pg)) if pg >= 0 else ldaPortfolio.append(buyAndHold[-1] / (1 - pg) )  \n",
    "    else:\n",
    "        ldaPortfolio.append(ldaPortfolio[-1])"
   ]
  },
  {
   "cell_type": "code",
   "execution_count": 21,
   "id": "3841c8f5",
   "metadata": {},
   "outputs": [],
   "source": [
    "#qda portfolio\n",
    "qdaPortfolio = [initialInvestment]\n",
    "\n",
    "for index  in range(len(predict_qda)):\n",
    "    pg = percentGains[index]\n",
    "    if predict_qda[index] == 1:\n",
    "        qdaPortfolio.append(qdaPortfolio[-1] * (1 + pg)) if pg >= 0 else qdaPortfolio.append(buyAndHold[-1] / (1 - pg) )  \n",
    "    else:\n",
    "        qdaPortfolio.append(qdaPortfolio[-1])"
   ]
  },
  {
   "cell_type": "code",
   "execution_count": 22,
   "id": "3c472269",
   "metadata": {},
   "outputs": [
    {
     "data": {
      "text/plain": [
       "<matplotlib.legend.Legend at 0x1c4b40da5e0>"
      ]
     },
     "execution_count": 22,
     "metadata": {},
     "output_type": "execute_result"
    },
    {
     "data": {
      "image/png": "[encoded data removed]",
      "text/plain": [
       "<Figure size 432x288 with 1 Axes>"
      ]
     },
     "metadata": {
      "needs_background": "light"
     },
     "output_type": "display_data"
    }
   ],
   "source": [
    "import matplotlib.pyplot as plt\n",
    "plt.plot(labels, buyAndHold)\n",
    "plt.plot(labels, ldaPortfolio, label = \"lda\")\n",
    "plt.plot(labels, qdaPortfolio, label = 'qda')\n",
    "plt.legend([\"buyandHold\", \"lda\", \"qda\"], loc =\"lower left\")"
   ]
  },
  {
   "cell_type": "markdown",
   "id": "6dbe5d98",
   "metadata": {},
   "source": [
    "    The LDA strategy has the best performance. Also, the accuracy of LDA is higher than QDA in this stock."
   ]
  }
 ],
 "metadata": {
  "kernelspec": {
   "display_name": "Python 3 (ipykernel)",
   "language": "python",
   "name": "python3"
  },
  "language_info": {
   "codemirror_mode": {
    "name": "ipython",
    "version": 3
   },
   "file_extension": ".py",
   "mimetype": "text/x-python",
   "name": "python",
   "nbconvert_exporter": "python",
   "pygments_lexer": "ipython3",
   "version": "3.9.7"
  }
 },
 "nbformat": 4,
 "nbformat_minor": 5
}
