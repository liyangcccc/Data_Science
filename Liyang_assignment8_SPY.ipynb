{
 "cells": [
  {
   "cell_type": "code",
   "execution_count": 1,
   "id": "c6cef464",
   "metadata": {},
   "outputs": [],
   "source": [
    "import pandas as pd\n",
    "import numpy as np\n",
    "from sklearn import svm\n",
    "from sklearn.preprocessing import StandardScaler"
   ]
  },
  {
   "cell_type": "code",
   "execution_count": 2,
   "id": "5f0e40ba",
   "metadata": {},
   "outputs": [],
   "source": [
    "df = pd.read_csv(\"SPY.csv\")"
   ]
  },
  {
   "cell_type": "code",
   "execution_count": 3,
   "id": "cd1b2876",
   "metadata": {},
   "outputs": [],
   "source": [
    "df_grouped = df.groupby(['Year', 'Week_Number'])['Return'].agg([np.mean,np.std])\n",
    "df_grouped.reset_index(['Year', 'Week_Number'], inplace=True)\n",
    "df_grouped.rename(columns={'mean': 'mean_Return_μ','std':'std_Return_σ'}, inplace=True)"
   ]
  },
  {
   "cell_type": "code",
   "execution_count": 4,
   "id": "3c6d0bab",
   "metadata": {},
   "outputs": [],
   "source": [
    "def getWeeklyDifferences(df):\n",
    "    lastClosePrice = np.asarray(df.groupby([\"Year\", \"Week_Number\"]).last()[\"Close\"])\n",
    "    firstOpenPrice = np.asarray(df.groupby([\"Year\", \"Week_Number\"]).first()[\"Open\"])\n",
    "    return lastClosePrice - firstOpenPrice\n",
    "def getLabels(df):\n",
    "    weeklyDifferences = getWeeklyDifferences(df)\n",
    "    return [1 if x >= 0 else 0 for x in weeklyDifferences]"
   ]
  },
  {
   "cell_type": "code",
   "execution_count": 5,
   "id": "e5473a71",
   "metadata": {},
   "outputs": [
    {
     "data": {
      "text/html": [
       "<div>\n",
       "<style scoped>\n",
       "    .dataframe tbody tr th:only-of-type {\n",
       "        vertical-align: middle;\n",
       "    }\n",
       "\n",
       "    .dataframe tbody tr th {\n",
       "        vertical-align: top;\n",
       "    }\n",
       "\n",
       "    .dataframe thead th {\n",
       "        text-align: right;\n",
       "    }\n",
       "</style>\n",
       "<table border=\"1\" class=\"dataframe\">\n",
       "  <thead>\n",
       "    <tr style=\"text-align: right;\">\n",
       "      <th></th>\n",
       "      <th>Year</th>\n",
       "      <th>Week_Number</th>\n",
       "      <th>mean_Return_μ</th>\n",
       "      <th>std_Return_σ</th>\n",
       "      <th>Weekly_Label</th>\n",
       "      <th>WeeklyDif</th>\n",
       "    </tr>\n",
       "  </thead>\n",
       "  <tbody>\n",
       "    <tr>\n",
       "      <th>0</th>\n",
       "      <td>2014</td>\n",
       "      <td>0</td>\n",
       "      <td>-0.000082</td>\n",
       "      <td>0.000116</td>\n",
       "      <td>0</td>\n",
       "      <td>-1.09</td>\n",
       "    </tr>\n",
       "    <tr>\n",
       "      <th>1</th>\n",
       "      <td>2014</td>\n",
       "      <td>1</td>\n",
       "      <td>0.001368</td>\n",
       "      <td>0.003341</td>\n",
       "      <td>1</td>\n",
       "      <td>0.65</td>\n",
       "    </tr>\n",
       "    <tr>\n",
       "      <th>2</th>\n",
       "      <td>2014</td>\n",
       "      <td>2</td>\n",
       "      <td>-0.000509</td>\n",
       "      <td>0.009262</td>\n",
       "      <td>0</td>\n",
       "      <td>-0.03</td>\n",
       "    </tr>\n",
       "    <tr>\n",
       "      <th>3</th>\n",
       "      <td>2014</td>\n",
       "      <td>3</td>\n",
       "      <td>-0.006484</td>\n",
       "      <td>0.011004</td>\n",
       "      <td>0</td>\n",
       "      <td>-5.81</td>\n",
       "    </tr>\n",
       "    <tr>\n",
       "      <th>4</th>\n",
       "      <td>2014</td>\n",
       "      <td>4</td>\n",
       "      <td>-0.000766</td>\n",
       "      <td>0.008598</td>\n",
       "      <td>0</td>\n",
       "      <td>-0.88</td>\n",
       "    </tr>\n",
       "    <tr>\n",
       "      <th>...</th>\n",
       "      <td>...</td>\n",
       "      <td>...</td>\n",
       "      <td>...</td>\n",
       "      <td>...</td>\n",
       "      <td>...</td>\n",
       "      <td>...</td>\n",
       "    </tr>\n",
       "    <tr>\n",
       "      <th>311</th>\n",
       "      <td>2019</td>\n",
       "      <td>48</td>\n",
       "      <td>0.000380</td>\n",
       "      <td>0.007765</td>\n",
       "      <td>1</td>\n",
       "      <td>0.28</td>\n",
       "    </tr>\n",
       "    <tr>\n",
       "      <th>312</th>\n",
       "      <td>2019</td>\n",
       "      <td>49</td>\n",
       "      <td>0.001560</td>\n",
       "      <td>0.004519</td>\n",
       "      <td>1</td>\n",
       "      <td>2.88</td>\n",
       "    </tr>\n",
       "    <tr>\n",
       "      <th>313</th>\n",
       "      <td>2019</td>\n",
       "      <td>50</td>\n",
       "      <td>0.003127</td>\n",
       "      <td>0.002932</td>\n",
       "      <td>1</td>\n",
       "      <td>1.51</td>\n",
       "    </tr>\n",
       "    <tr>\n",
       "      <th>314</th>\n",
       "      <td>2019</td>\n",
       "      <td>51</td>\n",
       "      <td>0.001659</td>\n",
       "      <td>0.002564</td>\n",
       "      <td>1</td>\n",
       "      <td>1.27</td>\n",
       "    </tr>\n",
       "    <tr>\n",
       "      <th>315</th>\n",
       "      <td>2019</td>\n",
       "      <td>52</td>\n",
       "      <td>-0.001542</td>\n",
       "      <td>0.005616</td>\n",
       "      <td>0</td>\n",
       "      <td>-1.09</td>\n",
       "    </tr>\n",
       "  </tbody>\n",
       "</table>\n",
       "<p>314 rows × 6 columns</p>\n",
       "</div>"
      ],
      "text/plain": [
       "     Year  Week_Number  mean_Return_μ  std_Return_σ  Weekly_Label  WeeklyDif\n",
       "0    2014            0      -0.000082      0.000116             0      -1.09\n",
       "1    2014            1       0.001368      0.003341             1       0.65\n",
       "2    2014            2      -0.000509      0.009262             0      -0.03\n",
       "3    2014            3      -0.006484      0.011004             0      -5.81\n",
       "4    2014            4      -0.000766      0.008598             0      -0.88\n",
       "..    ...          ...            ...           ...           ...        ...\n",
       "311  2019           48       0.000380      0.007765             1       0.28\n",
       "312  2019           49       0.001560      0.004519             1       2.88\n",
       "313  2019           50       0.003127      0.002932             1       1.51\n",
       "314  2019           51       0.001659      0.002564             1       1.27\n",
       "315  2019           52      -0.001542      0.005616             0      -1.09\n",
       "\n",
       "[314 rows x 6 columns]"
      ]
     },
     "execution_count": 5,
     "metadata": {},
     "output_type": "execute_result"
    }
   ],
   "source": [
    "df_grouped['Weekly_Label']=getLabels(df)\n",
    "df_grouped['WeeklyDif'] = getWeeklyDifferences(df)\n",
    "df_grouped.dropna(inplace=True)\n",
    "df_grouped"
   ]
  },
  {
   "cell_type": "code",
   "execution_count": 6,
   "id": "0b1ad7e5",
   "metadata": {},
   "outputs": [],
   "source": [
    "df_train = df_grouped[df_grouped.Year == 2015]\n",
    "df_pre = df_grouped[df_grouped.Year == 2016]"
   ]
  },
  {
   "cell_type": "code",
   "execution_count": 7,
   "id": "cd289f42",
   "metadata": {},
   "outputs": [],
   "source": [
    "X_train, y_train = df_train[['mean_Return_μ', 'std_Return_σ']], df_train['Weekly_Label']\n",
    "X_test, y_test = df_pre[['mean_Return_μ', 'std_Return_σ']], df_pre['Weekly_Label']"
   ]
  },
  {
   "cell_type": "code",
   "execution_count": 8,
   "id": "a9d7bc06",
   "metadata": {},
   "outputs": [],
   "source": [
    "sc = StandardScaler()\n",
    "X_train = sc.fit_transform(X_train)\n",
    "X_test = sc.transform(X_test)"
   ]
  },
  {
   "cell_type": "code",
   "execution_count": 9,
   "id": "98ad7f28",
   "metadata": {},
   "outputs": [],
   "source": [
    "#linear SVM\n",
    "svm_classifier = svm.SVC(kernel='linear')\n",
    "svm_classifier.fit(X_train, y_train)\n",
    "pred_Y = svm_classifier.predict(X_test)"
   ]
  },
  {
   "cell_type": "code",
   "execution_count": 10,
   "id": "7d8d45e8",
   "metadata": {},
   "outputs": [
    {
     "data": {
      "text/plain": [
       "array([[18,  4],\n",
       "       [ 1, 29]], dtype=int64)"
      ]
     },
     "execution_count": 10,
     "metadata": {},
     "output_type": "execute_result"
    }
   ],
   "source": [
    "from sklearn.metrics import confusion_matrix\n",
    "from sklearn import metrics\n",
    "confusion_matrix(y_test, pred_Y)"
   ]
  },
  {
   "cell_type": "code",
   "execution_count": 11,
   "id": "d3fd6b31",
   "metadata": {},
   "outputs": [
    {
     "name": "stdout",
     "output_type": "stream",
     "text": [
      "              precision    recall  f1-score   support\n",
      "\n",
      "           0       0.95      0.82      0.88        22\n",
      "           1       0.88      0.97      0.92        30\n",
      "\n",
      "    accuracy                           0.90        52\n",
      "   macro avg       0.91      0.89      0.90        52\n",
      "weighted avg       0.91      0.90      0.90        52\n",
      "\n"
     ]
    }
   ],
   "source": [
    "print(metrics.classification_report(y_test, pred_Y))"
   ]
  },
  {
   "cell_type": "markdown",
   "id": "8204987b",
   "metadata": {},
   "source": [
    "The accuracy of linear SVM is: 0.90.\n",
    "sensitive rate: 0.97\n",
    "specificity rate: 0.82"
   ]
  },
  {
   "cell_type": "code",
   "execution_count": 12,
   "id": "00a4f870",
   "metadata": {},
   "outputs": [],
   "source": [
    "# Gaussian SVM\n",
    "Gsvm_classifier = svm.SVC(kernel='rbf')\n",
    "Gsvm_classifier.fit(X_train, y_train)\n",
    "pred_svm = Gsvm_classifier.predict(X_test)"
   ]
  },
  {
   "cell_type": "code",
   "execution_count": 13,
   "id": "3d59ad71",
   "metadata": {},
   "outputs": [
    {
     "data": {
      "text/plain": [
       "array([[18,  4],\n",
       "       [ 1, 29]], dtype=int64)"
      ]
     },
     "execution_count": 13,
     "metadata": {},
     "output_type": "execute_result"
    }
   ],
   "source": [
    "confusion_matrix(y_test, pred_svm)"
   ]
  },
  {
   "cell_type": "code",
   "execution_count": 14,
   "id": "077947ec",
   "metadata": {},
   "outputs": [
    {
     "name": "stdout",
     "output_type": "stream",
     "text": [
      "              precision    recall  f1-score   support\n",
      "\n",
      "           0       0.95      0.82      0.88        22\n",
      "           1       0.88      0.97      0.92        30\n",
      "\n",
      "    accuracy                           0.90        52\n",
      "   macro avg       0.91      0.89      0.90        52\n",
      "weighted avg       0.91      0.90      0.90        52\n",
      "\n"
     ]
    }
   ],
   "source": [
    "print(metrics.classification_report(y_test, pred_svm))"
   ]
  },
  {
   "cell_type": "markdown",
   "id": "4b684f00",
   "metadata": {},
   "source": [
    "We can see the accucy rates of linear svm and Gaussian SVM are same. 0.90"
   ]
  },
  {
   "cell_type": "code",
   "execution_count": 15,
   "id": "5b531874",
   "metadata": {},
   "outputs": [],
   "source": [
    "# polynomial SVM with dgree = 2\n",
    "Psvm_classifier = svm.SVC(kernel='poly', degree=2)\n",
    "Psvm_classifier.fit(X_train, y_train)\n",
    "pred_Y = Psvm_classifier.predict(X_test)"
   ]
  },
  {
   "cell_type": "code",
   "execution_count": 16,
   "id": "5f45742f",
   "metadata": {},
   "outputs": [
    {
     "name": "stdout",
     "output_type": "stream",
     "text": [
      "              precision    recall  f1-score   support\n",
      "\n",
      "           0       0.50      0.05      0.08        22\n",
      "           1       0.58      0.97      0.72        30\n",
      "\n",
      "    accuracy                           0.58        52\n",
      "   macro avg       0.54      0.51      0.40        52\n",
      "weighted avg       0.55      0.58      0.45        52\n",
      "\n"
     ]
    }
   ],
   "source": [
    "print(metrics.classification_report(y_test, pred_Y))"
   ]
  },
  {
   "cell_type": "markdown",
   "id": "75a2571b",
   "metadata": {},
   "source": [
    "Based on the accuracy. Linear SVM is still better than polynomial SVM"
   ]
  },
  {
   "cell_type": "code",
   "execution_count": 17,
   "id": "c8d6c9e3",
   "metadata": {},
   "outputs": [],
   "source": [
    "#trading stratefy\n",
    "test = df[df.Year == 2016]\n",
    "weeklyDifferences = getWeeklyDifferences(test)\n",
    "weeklyOpens = test.groupby([\"Year\", \"Week_Number\"]).first().Open\n",
    "weeklyCloses = test.groupby([\"Year\", \"Week_Number\"]).last().Close\n",
    "\n",
    "percentGains = np.asarray((weeklyCloses - weeklyOpens) / weeklyOpens)\n",
    "dailyPercentGains = np.asarray((test.Close - test.Open)/test.Open)\n",
    "\n",
    "initialInvestment = 100\n",
    "buyAndHold = [initialInvestment]"
   ]
  },
  {
   "cell_type": "code",
   "execution_count": 18,
   "id": "35409763",
   "metadata": {},
   "outputs": [],
   "source": [
    "#Buy and Hold\n",
    "#PercentGains are weekly so this will take of the weeks\n",
    "labels = list(range(len(percentGains) + 1))\n",
    "\n",
    "for pg in percentGains:\n",
    "    buyAndHold.append(buyAndHold[-1] * (1 + pg)) if pg >= 0 else buyAndHold.append(buyAndHold[-1] / (1 - pg) )    "
   ]
  },
  {
   "cell_type": "code",
   "execution_count": 19,
   "id": "98a3c928",
   "metadata": {},
   "outputs": [],
   "source": [
    "#linear scm portfolio\n",
    "svmPortfolio = [initialInvestment]\n",
    "\n",
    "for index  in range(len(pred_svm)):\n",
    "    pg = percentGains[index]\n",
    "    if pred_svm[index] == 1:\n",
    "        svmPortfolio.append(svmPortfolio[-1] * (1 + pg)) if pg >= 0 else svmPortfolio.append(buyAndHold[-1] / (1 - pg) )  \n",
    "    else:\n",
    "        svmPortfolio.append(svmPortfolio[-1])"
   ]
  },
  {
   "cell_type": "code",
   "execution_count": 20,
   "id": "aaef9166",
   "metadata": {},
   "outputs": [
    {
     "data": {
      "text/plain": [
       "<matplotlib.legend.Legend at 0x22c69bf6c10>"
      ]
     },
     "execution_count": 20,
     "metadata": {},
     "output_type": "execute_result"
    },
    {
     "data": {
      "image/png": "[encoded data removed]",
      "text/plain": [
       "<Figure size 432x288 with 1 Axes>"
      ]
     },
     "metadata": {
      "needs_background": "light"
     },
     "output_type": "display_data"
    }
   ],
   "source": [
    "import matplotlib.pyplot as plt\n",
    "plt.plot(labels, buyAndHold)\n",
    "plt.plot(labels, svmPortfolio, label = \"svm\")\n",
    "plt.legend([\"buyandHold\", \"svm\"], loc =\"lower left\")"
   ]
  },
  {
   "cell_type": "markdown",
   "id": "665ccbf5",
   "metadata": {},
   "source": [
    "The linear svm performed better. But in the end, they almost earn same."
   ]
  }
 ],
 "metadata": {
  "kernelspec": {
   "display_name": "Python 3 (ipykernel)",
   "language": "python",
   "name": "python3"
  },
  "language_info": {
   "codemirror_mode": {
    "name": "ipython",
    "version": 3
   },
   "file_extension": ".py",
   "mimetype": "text/x-python",
   "name": "python",
   "nbconvert_exporter": "python",
   "pygments_lexer": "ipython3",
   "version": "3.9.7"
  }
 },
 "nbformat": 4,
 "nbformat_minor": 5
}
