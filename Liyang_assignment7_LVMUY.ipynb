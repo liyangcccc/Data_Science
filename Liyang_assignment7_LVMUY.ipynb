{
 "cells": [
  {
   "cell_type": "code",
   "execution_count": 1,
   "id": "152a5162",
   "metadata": {},
   "outputs": [],
   "source": [
    "import pandas as pd\n",
    "import numpy as np\n",
    "import matplotlib.pyplot as plt\n",
    "import seaborn as sns\n",
    "from sklearn.ensemble import RandomForestClassifier\n",
    "from sklearn.preprocessing import StandardScaler\n",
    "from sklearn.metrics import confusion_matrix\n",
    "from sklearn.metrics import accuracy_score"
   ]
  },
  {
   "cell_type": "code",
   "execution_count": 2,
   "id": "0598434e",
   "metadata": {},
   "outputs": [],
   "source": [
    "df = pd.read_csv(\"LVMUY.csv\")"
   ]
  },
  {
   "cell_type": "code",
   "execution_count": 3,
   "id": "902cf0dd",
   "metadata": {},
   "outputs": [],
   "source": [
    "df_grouped = df.groupby(['Year', 'Week_Number'])['Return'].agg([np.mean,np.std])\n",
    "df_grouped.reset_index(['Year', 'Week_Number'], inplace=True)\n",
    "df_grouped.rename(columns={'mean': 'mean_Return_μ','std':'std_Return_σ'}, inplace=True)"
   ]
  },
  {
   "cell_type": "code",
   "execution_count": 4,
   "id": "fd944a90",
   "metadata": {},
   "outputs": [],
   "source": [
    "def getWeeklyDifferences(df):\n",
    "    lastClosePrice = np.asarray(df.groupby([\"Year\", \"Week_Number\"]).last()[\"Close\"])\n",
    "    firstOpenPrice = np.asarray(df.groupby([\"Year\", \"Week_Number\"]).first()[\"Open\"])\n",
    "    return lastClosePrice - firstOpenPrice\n",
    "def getLabels(df):\n",
    "    weeklyDifferences = getWeeklyDifferences(df)\n",
    "    return [1 if x >= 0 else 0 for x in weeklyDifferences]"
   ]
  },
  {
   "cell_type": "code",
   "execution_count": 5,
   "id": "1efa236d",
   "metadata": {},
   "outputs": [
    {
     "data": {
      "text/html": [
       "<div>\n",
       "<style scoped>\n",
       "    .dataframe tbody tr th:only-of-type {\n",
       "        vertical-align: middle;\n",
       "    }\n",
       "\n",
       "    .dataframe tbody tr th {\n",
       "        vertical-align: top;\n",
       "    }\n",
       "\n",
       "    .dataframe thead th {\n",
       "        text-align: right;\n",
       "    }\n",
       "</style>\n",
       "<table border=\"1\" class=\"dataframe\">\n",
       "  <thead>\n",
       "    <tr style=\"text-align: right;\">\n",
       "      <th></th>\n",
       "      <th>Year</th>\n",
       "      <th>Week_Number</th>\n",
       "      <th>mean_Return_μ</th>\n",
       "      <th>std_Return_σ</th>\n",
       "      <th>Weekly_Label</th>\n",
       "      <th>WeeklyDif</th>\n",
       "    </tr>\n",
       "  </thead>\n",
       "  <tbody>\n",
       "    <tr>\n",
       "      <th>0</th>\n",
       "      <td>2014</td>\n",
       "      <td>0</td>\n",
       "      <td>-0.005560</td>\n",
       "      <td>0.007863</td>\n",
       "      <td>0</td>\n",
       "      <td>-0.32</td>\n",
       "    </tr>\n",
       "    <tr>\n",
       "      <th>1</th>\n",
       "      <td>2014</td>\n",
       "      <td>1</td>\n",
       "      <td>-0.006661</td>\n",
       "      <td>0.017478</td>\n",
       "      <td>0</td>\n",
       "      <td>-0.82</td>\n",
       "    </tr>\n",
       "    <tr>\n",
       "      <th>2</th>\n",
       "      <td>2014</td>\n",
       "      <td>2</td>\n",
       "      <td>-0.000721</td>\n",
       "      <td>0.009552</td>\n",
       "      <td>0</td>\n",
       "      <td>-0.12</td>\n",
       "    </tr>\n",
       "    <tr>\n",
       "      <th>3</th>\n",
       "      <td>2014</td>\n",
       "      <td>3</td>\n",
       "      <td>-0.002957</td>\n",
       "      <td>0.018201</td>\n",
       "      <td>0</td>\n",
       "      <td>-1.31</td>\n",
       "    </tr>\n",
       "    <tr>\n",
       "      <th>4</th>\n",
       "      <td>2014</td>\n",
       "      <td>4</td>\n",
       "      <td>0.010164</td>\n",
       "      <td>0.022332</td>\n",
       "      <td>1</td>\n",
       "      <td>1.80</td>\n",
       "    </tr>\n",
       "    <tr>\n",
       "      <th>...</th>\n",
       "      <td>...</td>\n",
       "      <td>...</td>\n",
       "      <td>...</td>\n",
       "      <td>...</td>\n",
       "      <td>...</td>\n",
       "      <td>...</td>\n",
       "    </tr>\n",
       "    <tr>\n",
       "      <th>311</th>\n",
       "      <td>2019</td>\n",
       "      <td>48</td>\n",
       "      <td>-0.000431</td>\n",
       "      <td>0.012718</td>\n",
       "      <td>0</td>\n",
       "      <td>-0.54</td>\n",
       "    </tr>\n",
       "    <tr>\n",
       "      <th>312</th>\n",
       "      <td>2019</td>\n",
       "      <td>49</td>\n",
       "      <td>0.002777</td>\n",
       "      <td>0.006309</td>\n",
       "      <td>1</td>\n",
       "      <td>1.36</td>\n",
       "    </tr>\n",
       "    <tr>\n",
       "      <th>313</th>\n",
       "      <td>2019</td>\n",
       "      <td>50</td>\n",
       "      <td>0.002657</td>\n",
       "      <td>0.012763</td>\n",
       "      <td>0</td>\n",
       "      <td>-0.49</td>\n",
       "    </tr>\n",
       "    <tr>\n",
       "      <th>314</th>\n",
       "      <td>2019</td>\n",
       "      <td>51</td>\n",
       "      <td>0.006299</td>\n",
       "      <td>0.005811</td>\n",
       "      <td>1</td>\n",
       "      <td>1.81</td>\n",
       "    </tr>\n",
       "    <tr>\n",
       "      <th>315</th>\n",
       "      <td>2019</td>\n",
       "      <td>52</td>\n",
       "      <td>-0.000212</td>\n",
       "      <td>0.003338</td>\n",
       "      <td>0</td>\n",
       "      <td>-0.13</td>\n",
       "    </tr>\n",
       "  </tbody>\n",
       "</table>\n",
       "<p>314 rows × 6 columns</p>\n",
       "</div>"
      ],
      "text/plain": [
       "     Year  Week_Number  mean_Return_μ  std_Return_σ  Weekly_Label  WeeklyDif\n",
       "0    2014            0      -0.005560      0.007863             0      -0.32\n",
       "1    2014            1      -0.006661      0.017478             0      -0.82\n",
       "2    2014            2      -0.000721      0.009552             0      -0.12\n",
       "3    2014            3      -0.002957      0.018201             0      -1.31\n",
       "4    2014            4       0.010164      0.022332             1       1.80\n",
       "..    ...          ...            ...           ...           ...        ...\n",
       "311  2019           48      -0.000431      0.012718             0      -0.54\n",
       "312  2019           49       0.002777      0.006309             1       1.36\n",
       "313  2019           50       0.002657      0.012763             0      -0.49\n",
       "314  2019           51       0.006299      0.005811             1       1.81\n",
       "315  2019           52      -0.000212      0.003338             0      -0.13\n",
       "\n",
       "[314 rows x 6 columns]"
      ]
     },
     "execution_count": 5,
     "metadata": {},
     "output_type": "execute_result"
    }
   ],
   "source": [
    "df_grouped['Weekly_Label']=getLabels(df)\n",
    "df_grouped['WeeklyDif'] = getWeeklyDifferences(df)\n",
    "df_grouped.dropna(inplace=True)\n",
    "df_grouped"
   ]
  },
  {
   "cell_type": "code",
   "execution_count": 6,
   "id": "46051b01",
   "metadata": {},
   "outputs": [],
   "source": [
    "df_2017 = df_grouped[df_grouped.Year == 2017]\n",
    "df_2018 = df_grouped[df_grouped.Year == 2018]"
   ]
  },
  {
   "cell_type": "code",
   "execution_count": 9,
   "id": "001156bc",
   "metadata": {},
   "outputs": [],
   "source": [
    "X_train, y_train = df_2017[['mean_Return_μ', 'std_Return_σ']], df_2017['Weekly_Label']\n",
    "X_test, y_test = df_2018[['mean_Return_μ', 'std_Return_σ']], df_2018['Weekly_Label']"
   ]
  },
  {
   "cell_type": "markdown",
   "id": "ee3859d5",
   "metadata": {},
   "source": [
    "## Random Forest"
   ]
  },
  {
   "cell_type": "code",
   "execution_count": 10,
   "id": "db42f4a7",
   "metadata": {},
   "outputs": [],
   "source": [
    "def RFModelErrorRate(train_data, test_data,feature,prediction, d, N):\n",
    "    \"\"\"\n",
    "    Build a randomforest model. Use train_data to train the classifier and predict the test_data.\n",
    "    N - number of (sub)trees to use \n",
    "    d - max depth of each subtree\n",
    "    \"\"\"\n",
    "    #train the random forest model by the stock data in year 1\n",
    "    X_train, y_train = train_data[feature].values , train_data[prediction].values\n",
    "    sc = StandardScaler()\n",
    "    X_train = sc.fit_transform(X_train)\n",
    "    rfc=RandomForestClassifier( max_depth=d,n_estimators= N ,random_state=1998)\n",
    "    rfc.fit(X_train,y_train)\n",
    "    \n",
    "    #predict the label in year 2\n",
    "    X_test, y_test = test_data[feature].values, test_data[prediction].values\n",
    "    X_test = sc.transform(X_test)\n",
    "    pred_Y = rfc.predict(X_test)\n",
    "    ACC = accuracy_score(y_test,pred_Y)\n",
    "    error_rate = 1 - ACC\n",
    "    return 1-ACC"
   ]
  },
  {
   "cell_type": "code",
   "execution_count": 21,
   "id": "9c750ab8",
   "metadata": {},
   "outputs": [
    {
     "name": "stderr",
     "output_type": "stream",
     "text": [
      "D:\\TEMP/ipykernel_26184/781995735.py:12: DataConversionWarning: A column-vector y was passed when a 1d array was expected. Please change the shape of y to (n_samples,), for example using ravel().\n",
      "  rfc.fit(X_train,y_train)\n"
     ]
    },
    {
     "data": {
      "text/plain": [
       "0.15384615384615385"
      ]
     },
     "execution_count": 21,
     "metadata": {},
     "output_type": "execute_result"
    }
   ],
   "source": [
    "features = ['mean_Return_μ', 'std_Return_σ']\n",
    "label = ['Weekly_Label']\n",
    "RFModelErrorRate(df_2017, df_2018,features, label, 3,3)"
   ]
  },
  {
   "cell_type": "code",
   "execution_count": 23,
   "id": "63128814",
   "metadata": {},
   "outputs": [
    {
     "name": "stderr",
     "output_type": "stream",
     "text": [
      "D:\\TEMP/ipykernel_26184/781995735.py:12: DataConversionWarning: A column-vector y was passed when a 1d array was expected. Please change the shape of y to (n_samples,), for example using ravel().\n",
      "  rfc.fit(X_train,y_train)\n",
      "D:\\TEMP/ipykernel_26184/781995735.py:12: DataConversionWarning: A column-vector y was passed when a 1d array was expected. Please change the shape of y to (n_samples,), for example using ravel().\n",
      "  rfc.fit(X_train,y_train)\n",
      "D:\\TEMP/ipykernel_26184/781995735.py:12: DataConversionWarning: A column-vector y was passed when a 1d array was expected. Please change the shape of y to (n_samples,), for example using ravel().\n",
      "  rfc.fit(X_train,y_train)\n",
      "D:\\TEMP/ipykernel_26184/781995735.py:12: DataConversionWarning: A column-vector y was passed when a 1d array was expected. Please change the shape of y to (n_samples,), for example using ravel().\n",
      "  rfc.fit(X_train,y_train)\n",
      "D:\\TEMP/ipykernel_26184/781995735.py:12: DataConversionWarning: A column-vector y was passed when a 1d array was expected. Please change the shape of y to (n_samples,), for example using ravel().\n",
      "  rfc.fit(X_train,y_train)\n",
      "D:\\TEMP/ipykernel_26184/781995735.py:12: DataConversionWarning: A column-vector y was passed when a 1d array was expected. Please change the shape of y to (n_samples,), for example using ravel().\n",
      "  rfc.fit(X_train,y_train)\n",
      "D:\\TEMP/ipykernel_26184/781995735.py:12: DataConversionWarning: A column-vector y was passed when a 1d array was expected. Please change the shape of y to (n_samples,), for example using ravel().\n",
      "  rfc.fit(X_train,y_train)\n",
      "D:\\TEMP/ipykernel_26184/781995735.py:12: DataConversionWarning: A column-vector y was passed when a 1d array was expected. Please change the shape of y to (n_samples,), for example using ravel().\n",
      "  rfc.fit(X_train,y_train)\n",
      "D:\\TEMP/ipykernel_26184/781995735.py:12: DataConversionWarning: A column-vector y was passed when a 1d array was expected. Please change the shape of y to (n_samples,), for example using ravel().\n",
      "  rfc.fit(X_train,y_train)\n",
      "D:\\TEMP/ipykernel_26184/781995735.py:12: DataConversionWarning: A column-vector y was passed when a 1d array was expected. Please change the shape of y to (n_samples,), for example using ravel().\n",
      "  rfc.fit(X_train,y_train)\n",
      "D:\\TEMP/ipykernel_26184/781995735.py:12: DataConversionWarning: A column-vector y was passed when a 1d array was expected. Please change the shape of y to (n_samples,), for example using ravel().\n",
      "  rfc.fit(X_train,y_train)\n",
      "D:\\TEMP/ipykernel_26184/781995735.py:12: DataConversionWarning: A column-vector y was passed when a 1d array was expected. Please change the shape of y to (n_samples,), for example using ravel().\n",
      "  rfc.fit(X_train,y_train)\n",
      "D:\\TEMP/ipykernel_26184/781995735.py:12: DataConversionWarning: A column-vector y was passed when a 1d array was expected. Please change the shape of y to (n_samples,), for example using ravel().\n",
      "  rfc.fit(X_train,y_train)\n",
      "D:\\TEMP/ipykernel_26184/781995735.py:12: DataConversionWarning: A column-vector y was passed when a 1d array was expected. Please change the shape of y to (n_samples,), for example using ravel().\n",
      "  rfc.fit(X_train,y_train)\n",
      "D:\\TEMP/ipykernel_26184/781995735.py:12: DataConversionWarning: A column-vector y was passed when a 1d array was expected. Please change the shape of y to (n_samples,), for example using ravel().\n",
      "  rfc.fit(X_train,y_train)\n",
      "D:\\TEMP/ipykernel_26184/781995735.py:12: DataConversionWarning: A column-vector y was passed when a 1d array was expected. Please change the shape of y to (n_samples,), for example using ravel().\n",
      "  rfc.fit(X_train,y_train)\n",
      "D:\\TEMP/ipykernel_26184/781995735.py:12: DataConversionWarning: A column-vector y was passed when a 1d array was expected. Please change the shape of y to (n_samples,), for example using ravel().\n",
      "  rfc.fit(X_train,y_train)\n",
      "D:\\TEMP/ipykernel_26184/781995735.py:12: DataConversionWarning: A column-vector y was passed when a 1d array was expected. Please change the shape of y to (n_samples,), for example using ravel().\n",
      "  rfc.fit(X_train,y_train)\n",
      "D:\\TEMP/ipykernel_26184/781995735.py:12: DataConversionWarning: A column-vector y was passed when a 1d array was expected. Please change the shape of y to (n_samples,), for example using ravel().\n",
      "  rfc.fit(X_train,y_train)\n",
      "D:\\TEMP/ipykernel_26184/781995735.py:12: DataConversionWarning: A column-vector y was passed when a 1d array was expected. Please change the shape of y to (n_samples,), for example using ravel().\n",
      "  rfc.fit(X_train,y_train)\n",
      "D:\\TEMP/ipykernel_26184/781995735.py:12: DataConversionWarning: A column-vector y was passed when a 1d array was expected. Please change the shape of y to (n_samples,), for example using ravel().\n",
      "  rfc.fit(X_train,y_train)\n",
      "D:\\TEMP/ipykernel_26184/781995735.py:12: DataConversionWarning: A column-vector y was passed when a 1d array was expected. Please change the shape of y to (n_samples,), for example using ravel().\n",
      "  rfc.fit(X_train,y_train)\n",
      "D:\\TEMP/ipykernel_26184/781995735.py:12: DataConversionWarning: A column-vector y was passed when a 1d array was expected. Please change the shape of y to (n_samples,), for example using ravel().\n",
      "  rfc.fit(X_train,y_train)\n",
      "D:\\TEMP/ipykernel_26184/781995735.py:12: DataConversionWarning: A column-vector y was passed when a 1d array was expected. Please change the shape of y to (n_samples,), for example using ravel().\n",
      "  rfc.fit(X_train,y_train)\n",
      "D:\\TEMP/ipykernel_26184/781995735.py:12: DataConversionWarning: A column-vector y was passed when a 1d array was expected. Please change the shape of y to (n_samples,), for example using ravel().\n",
      "  rfc.fit(X_train,y_train)\n",
      "D:\\TEMP/ipykernel_26184/781995735.py:12: DataConversionWarning: A column-vector y was passed when a 1d array was expected. Please change the shape of y to (n_samples,), for example using ravel().\n",
      "  rfc.fit(X_train,y_train)\n",
      "D:\\TEMP/ipykernel_26184/781995735.py:12: DataConversionWarning: A column-vector y was passed when a 1d array was expected. Please change the shape of y to (n_samples,), for example using ravel().\n",
      "  rfc.fit(X_train,y_train)\n",
      "D:\\TEMP/ipykernel_26184/781995735.py:12: DataConversionWarning: A column-vector y was passed when a 1d array was expected. Please change the shape of y to (n_samples,), for example using ravel().\n",
      "  rfc.fit(X_train,y_train)\n",
      "D:\\TEMP/ipykernel_26184/781995735.py:12: DataConversionWarning: A column-vector y was passed when a 1d array was expected. Please change the shape of y to (n_samples,), for example using ravel().\n",
      "  rfc.fit(X_train,y_train)\n",
      "D:\\TEMP/ipykernel_26184/781995735.py:12: DataConversionWarning: A column-vector y was passed when a 1d array was expected. Please change the shape of y to (n_samples,), for example using ravel().\n",
      "  rfc.fit(X_train,y_train)\n",
      "D:\\TEMP/ipykernel_26184/781995735.py:12: DataConversionWarning: A column-vector y was passed when a 1d array was expected. Please change the shape of y to (n_samples,), for example using ravel().\n",
      "  rfc.fit(X_train,y_train)\n",
      "D:\\TEMP/ipykernel_26184/781995735.py:12: DataConversionWarning: A column-vector y was passed when a 1d array was expected. Please change the shape of y to (n_samples,), for example using ravel().\n",
      "  rfc.fit(X_train,y_train)\n",
      "D:\\TEMP/ipykernel_26184/781995735.py:12: DataConversionWarning: A column-vector y was passed when a 1d array was expected. Please change the shape of y to (n_samples,), for example using ravel().\n",
      "  rfc.fit(X_train,y_train)\n",
      "D:\\TEMP/ipykernel_26184/781995735.py:12: DataConversionWarning: A column-vector y was passed when a 1d array was expected. Please change the shape of y to (n_samples,), for example using ravel().\n",
      "  rfc.fit(X_train,y_train)\n",
      "D:\\TEMP/ipykernel_26184/781995735.py:12: DataConversionWarning: A column-vector y was passed when a 1d array was expected. Please change the shape of y to (n_samples,), for example using ravel().\n",
      "  rfc.fit(X_train,y_train)\n",
      "D:\\TEMP/ipykernel_26184/781995735.py:12: DataConversionWarning: A column-vector y was passed when a 1d array was expected. Please change the shape of y to (n_samples,), for example using ravel().\n",
      "  rfc.fit(X_train,y_train)\n",
      "D:\\TEMP/ipykernel_26184/781995735.py:12: DataConversionWarning: A column-vector y was passed when a 1d array was expected. Please change the shape of y to (n_samples,), for example using ravel().\n",
      "  rfc.fit(X_train,y_train)\n",
      "D:\\TEMP/ipykernel_26184/781995735.py:12: DataConversionWarning: A column-vector y was passed when a 1d array was expected. Please change the shape of y to (n_samples,), for example using ravel().\n",
      "  rfc.fit(X_train,y_train)\n",
      "D:\\TEMP/ipykernel_26184/781995735.py:12: DataConversionWarning: A column-vector y was passed when a 1d array was expected. Please change the shape of y to (n_samples,), for example using ravel().\n",
      "  rfc.fit(X_train,y_train)\n",
      "D:\\TEMP/ipykernel_26184/781995735.py:12: DataConversionWarning: A column-vector y was passed when a 1d array was expected. Please change the shape of y to (n_samples,), for example using ravel().\n",
      "  rfc.fit(X_train,y_train)\n",
      "D:\\TEMP/ipykernel_26184/781995735.py:12: DataConversionWarning: A column-vector y was passed when a 1d array was expected. Please change the shape of y to (n_samples,), for example using ravel().\n",
      "  rfc.fit(X_train,y_train)\n",
      "D:\\TEMP/ipykernel_26184/781995735.py:12: DataConversionWarning: A column-vector y was passed when a 1d array was expected. Please change the shape of y to (n_samples,), for example using ravel().\n",
      "  rfc.fit(X_train,y_train)\n",
      "D:\\TEMP/ipykernel_26184/781995735.py:12: DataConversionWarning: A column-vector y was passed when a 1d array was expected. Please change the shape of y to (n_samples,), for example using ravel().\n",
      "  rfc.fit(X_train,y_train)\n",
      "D:\\TEMP/ipykernel_26184/781995735.py:12: DataConversionWarning: A column-vector y was passed when a 1d array was expected. Please change the shape of y to (n_samples,), for example using ravel().\n",
      "  rfc.fit(X_train,y_train)\n",
      "D:\\TEMP/ipykernel_26184/781995735.py:12: DataConversionWarning: A column-vector y was passed when a 1d array was expected. Please change the shape of y to (n_samples,), for example using ravel().\n",
      "  rfc.fit(X_train,y_train)\n",
      "D:\\TEMP/ipykernel_26184/781995735.py:12: DataConversionWarning: A column-vector y was passed when a 1d array was expected. Please change the shape of y to (n_samples,), for example using ravel().\n",
      "  rfc.fit(X_train,y_train)\n",
      "D:\\TEMP/ipykernel_26184/781995735.py:12: DataConversionWarning: A column-vector y was passed when a 1d array was expected. Please change the shape of y to (n_samples,), for example using ravel().\n",
      "  rfc.fit(X_train,y_train)\n",
      "D:\\TEMP/ipykernel_26184/781995735.py:12: DataConversionWarning: A column-vector y was passed when a 1d array was expected. Please change the shape of y to (n_samples,), for example using ravel().\n",
      "  rfc.fit(X_train,y_train)\n",
      "D:\\TEMP/ipykernel_26184/781995735.py:12: DataConversionWarning: A column-vector y was passed when a 1d array was expected. Please change the shape of y to (n_samples,), for example using ravel().\n",
      "  rfc.fit(X_train,y_train)\n",
      "D:\\TEMP/ipykernel_26184/781995735.py:12: DataConversionWarning: A column-vector y was passed when a 1d array was expected. Please change the shape of y to (n_samples,), for example using ravel().\n",
      "  rfc.fit(X_train,y_train)\n"
     ]
    }
   ],
   "source": [
    "errors = {'-'.join([str(d), str(n)]): RFModelErrorRate(df_2017,df_2018, features, label, d, n)\n",
    "              for d in range(1, 6) for n in range(1, 11)}"
   ]
  },
  {
   "cell_type": "code",
   "execution_count": 14,
   "id": "a2554195",
   "metadata": {},
   "outputs": [
    {
     "name": "stderr",
     "output_type": "stream",
     "text": [
      "D:\\ProgramData\\Anaconda3\\lib\\site-packages\\seaborn\\_decorators.py:36: FutureWarning: Pass the following variables as keyword args: x, y. From version 0.12, the only valid positional argument will be `data`, and passing other arguments without an explicit keyword will result in an error or misinterpretation.\n",
      "  warnings.warn(\n"
     ]
    },
    {
     "data": {
      "image/png": "[encoded data removed]",
      "text/plain": [
       "<Figure size 2160x720 with 1 Axes>"
      ]
     },
     "metadata": {
      "needs_background": "light"
     },
     "output_type": "display_data"
    }
   ],
   "source": [
    "plt.figure(figsize = (30,10))\n",
    "sns.lineplot(list(errors.keys()), list(errors.values()), marker='o')\n",
    "plt.xlabel('d-N value')\n",
    "plt.ylabel('Error Rate')\n",
    "plt.show()"
   ]
  },
  {
   "cell_type": "markdown",
   "id": "d7ab0967",
   "metadata": {},
   "source": [
    "#### Based on the error rate plot, we can choose d=3 and N=3 for the best model"
   ]
  },
  {
   "cell_type": "code",
   "execution_count": 16,
   "id": "5904d902",
   "metadata": {},
   "outputs": [
    {
     "data": {
      "text/plain": [
       "array([[17,  5],\n",
       "       [ 7, 23]], dtype=int64)"
      ]
     },
     "execution_count": 16,
     "metadata": {},
     "output_type": "execute_result"
    }
   ],
   "source": [
    "#calculate the confusion matrix for the best model\n",
    "rf = RandomForestClassifier(max_depth=3, n_estimators=3).fit(X_train, y_train)\n",
    "prediction_rf = rf.predict(X_test)\n",
    "confusion_matrix(y_test, prediction_rf)"
   ]
  },
  {
   "cell_type": "code",
   "execution_count": 17,
   "id": "9e705cfb",
   "metadata": {},
   "outputs": [],
   "source": [
    "#TPR and TNR\n",
    "from sklearn.metrics import recall_score\n",
    "TPR = recall_score(y_test, prediction_rf)\n",
    "tn, fp, fn, tp = confusion_matrix(y_test, prediction_rf).ravel()\n",
    "TNR = tn / (tn + fp)"
   ]
  },
  {
   "cell_type": "code",
   "execution_count": 18,
   "id": "ab14cbc5",
   "metadata": {},
   "outputs": [
    {
     "data": {
      "text/plain": [
       "0.7666666666666667"
      ]
     },
     "execution_count": 18,
     "metadata": {},
     "output_type": "execute_result"
    }
   ],
   "source": [
    "TPR"
   ]
  },
  {
   "cell_type": "code",
   "execution_count": 19,
   "id": "dca1bd67",
   "metadata": {},
   "outputs": [
    {
     "data": {
      "text/plain": [
       "0.7727272727272727"
      ]
     },
     "execution_count": 19,
     "metadata": {},
     "output_type": "execute_result"
    }
   ],
   "source": [
    "TNR"
   ]
  },
  {
   "cell_type": "markdown",
   "id": "f0de915a",
   "metadata": {},
   "source": [
    "## RF trading strategy"
   ]
  },
  {
   "cell_type": "code",
   "execution_count": 25,
   "id": "edf69911",
   "metadata": {},
   "outputs": [],
   "source": [
    "test = df[df.Year == 2017]\n",
    "weeklyDifferences = getWeeklyDifferences(test)\n",
    "weeklyOpens = test.groupby([\"Year\", \"Week_Number\"]).first().Open\n",
    "weeklyCloses = test.groupby([\"Year\", \"Week_Number\"]).last().Close\n",
    "\n",
    "percentGains = np.asarray((weeklyCloses - weeklyOpens) / weeklyOpens)\n",
    "dailyPercentGains = np.asarray((test.Close - test.Open)/test.Open)\n",
    "\n",
    "initialInvestment = 100\n",
    "buyAndHold = [initialInvestment]"
   ]
  },
  {
   "cell_type": "code",
   "execution_count": 26,
   "id": "b494e74e",
   "metadata": {},
   "outputs": [],
   "source": [
    "#Buy and Hold\n",
    "#PercentGains are weekly so this will take of the weeks\n",
    "labels = list(range(len(percentGains) + 1))\n",
    "\n",
    "for pg in percentGains:\n",
    "    buyAndHold.append(buyAndHold[-1] * (1 + pg)) if pg >= 0 else buyAndHold.append(buyAndHold[-1] / (1 - pg) )    "
   ]
  },
  {
   "cell_type": "code",
   "execution_count": 27,
   "id": "058bb37b",
   "metadata": {},
   "outputs": [],
   "source": [
    "#random forest portfolio\n",
    "rfPortfolio = [initialInvestment]\n",
    "\n",
    "for index  in range(len(prediction_rf)):\n",
    "    pg = percentGains[index]\n",
    "    if prediction_rf[index] == 1:\n",
    "        rfPortfolio.append(rfPortfolio[-1] * (1 + pg)) if pg >= 0 else rfPortfolio.append(buyAndHold[-1] / (1 - pg) )  \n",
    "    else:\n",
    "        rfPortfolio.append(rfPortfolio[-1])"
   ]
  },
  {
   "cell_type": "code",
   "execution_count": 28,
   "id": "b03533e6",
   "metadata": {},
   "outputs": [
    {
     "data": {
      "text/plain": [
       "<matplotlib.legend.Legend at 0x1e47977e910>"
      ]
     },
     "execution_count": 28,
     "metadata": {},
     "output_type": "execute_result"
    },
    {
     "data": {
      "image/png": "[encoded data removed]",
      "text/plain": [
       "<Figure size 432x288 with 1 Axes>"
      ]
     },
     "metadata": {
      "needs_background": "light"
     },
     "output_type": "display_data"
    }
   ],
   "source": [
    "plt.plot(labels, buyAndHold)\n",
    "plt.plot(labels, rfPortfolio, label = \"RandomForest\")\n",
    "plt.legend([\"buyAndHold\", \"RandomForest\"])"
   ]
  },
  {
   "cell_type": "markdown",
   "id": "ca32f90f",
   "metadata": {},
   "source": [
    "buy-and-hold strategy earn more at the end of the year. But before that, randomForest classifier model performed better."
   ]
  },
  {
   "cell_type": "markdown",
   "id": "6bfaf0bd",
   "metadata": {},
   "source": [
    "## Desision Tree"
   ]
  },
  {
   "cell_type": "code",
   "execution_count": 29,
   "id": "72786ae5",
   "metadata": {},
   "outputs": [],
   "source": [
    "#tree model\n",
    "from sklearn import tree\n",
    "clf = tree.DecisionTreeClassifier(criterion = 'entropy', max_features = 2).fit(X_train, y_train)\n",
    "prediction_yr2 = clf.predict(X_test)"
   ]
  },
  {
   "cell_type": "code",
   "execution_count": 30,
   "id": "39add2f9",
   "metadata": {},
   "outputs": [
    {
     "data": {
      "text/plain": [
       "0.7307692307692307"
      ]
     },
     "execution_count": 30,
     "metadata": {},
     "output_type": "execute_result"
    }
   ],
   "source": [
    "#accuracy\n",
    "accuracy_score(y_test, prediction_yr2)"
   ]
  },
  {
   "cell_type": "code",
   "execution_count": 31,
   "id": "14b264ea",
   "metadata": {},
   "outputs": [
    {
     "data": {
      "text/plain": [
       "array([[17,  5],\n",
       "       [ 9, 21]], dtype=int64)"
      ]
     },
     "execution_count": 31,
     "metadata": {},
     "output_type": "execute_result"
    }
   ],
   "source": [
    "#confusion matrix\n",
    "confusion_matrix(y_test, prediction_yr2)"
   ]
  },
  {
   "cell_type": "code",
   "execution_count": 32,
   "id": "fc509a60",
   "metadata": {},
   "outputs": [],
   "source": [
    "#TPR and TNR\n",
    "from sklearn.metrics import recall_score\n",
    "TPR = recall_score(y_test, prediction_yr2)\n",
    "tn, fp, fn, tp = confusion_matrix(y_test, prediction_yr2).ravel()\n",
    "TNR = tn / (tn + fp)"
   ]
  },
  {
   "cell_type": "code",
   "execution_count": 34,
   "id": "b0c70f39",
   "metadata": {},
   "outputs": [
    {
     "data": {
      "text/plain": [
       "0.7"
      ]
     },
     "execution_count": 34,
     "metadata": {},
     "output_type": "execute_result"
    }
   ],
   "source": [
    "TPR"
   ]
  },
  {
   "cell_type": "code",
   "execution_count": 35,
   "id": "0ef87839",
   "metadata": {},
   "outputs": [
    {
     "data": {
      "text/plain": [
       "0.7727272727272727"
      ]
     },
     "execution_count": 35,
     "metadata": {},
     "output_type": "execute_result"
    }
   ],
   "source": [
    "TNR"
   ]
  },
  {
   "cell_type": "code",
   "execution_count": 36,
   "id": "8d1c0335",
   "metadata": {},
   "outputs": [],
   "source": [
    "#Decision tree portfolio\n",
    "treePortfolio = [initialInvestment]\n",
    "\n",
    "for index  in range(len(prediction_yr2)):\n",
    "    pg = percentGains[index]\n",
    "    if prediction_yr2[index] == 1:\n",
    "        treePortfolio.append(treePortfolio[-1] * (1 + pg)) if pg >= 0 else treePortfolio.append(buyAndHold[-1] / (1 - pg) )  \n",
    "    else:\n",
    "        treePortfolio.append(treePortfolio[-1])"
   ]
  },
  {
   "cell_type": "code",
   "execution_count": 37,
   "id": "36983d1f",
   "metadata": {},
   "outputs": [
    {
     "data": {
      "text/plain": [
       "<matplotlib.legend.Legend at 0x1e4789fd280>"
      ]
     },
     "execution_count": 37,
     "metadata": {},
     "output_type": "execute_result"
    },
    {
     "data": {
      "image/png": "[encoded data removed]",
      "text/plain": [
       "<Figure size 432x288 with 1 Axes>"
      ]
     },
     "metadata": {
      "needs_background": "light"
     },
     "output_type": "display_data"
    }
   ],
   "source": [
    "plt.plot(labels, buyAndHold)\n",
    "plt.plot(labels, treePortfolio, label = \"tree\")\n",
    "plt.legend([\"buyAndHold\", \"tree\"])"
   ]
  },
  {
   "cell_type": "markdown",
   "id": "a084afa5",
   "metadata": {},
   "source": [
    "the tree model performs better than buy-and-hold"
   ]
  }
 ],
 "metadata": {
  "kernelspec": {
   "display_name": "Python 3 (ipykernel)",
   "language": "python",
   "name": "python3"
  },
  "language_info": {
   "codemirror_mode": {
    "name": "ipython",
    "version": 3
   },
   "file_extension": ".py",
   "mimetype": "text/x-python",
   "name": "python",
   "nbconvert_exporter": "python",
   "pygments_lexer": "ipython3",
   "version": "3.9.7"
  }
 },
 "nbformat": 4,
 "nbformat_minor": 5
}
